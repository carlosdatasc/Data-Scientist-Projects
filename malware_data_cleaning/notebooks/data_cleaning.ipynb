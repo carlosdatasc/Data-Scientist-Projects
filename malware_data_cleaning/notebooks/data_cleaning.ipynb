{
 "cells": [
  {
   "cell_type": "markdown",
   "id": "a4d36f23",
   "metadata": {},
   "source": [
    "Limpieza de datos malware"
   ]
  },
  {
   "cell_type": "code",
   "execution_count": 1,
   "id": "f6df5ede",
   "metadata": {},
   "outputs": [],
   "source": [
    "import pandas as pd\n",
    "import os"
   ]
  },
  {
   "cell_type": "code",
   "execution_count": 2,
   "id": "8b883bf5",
   "metadata": {},
   "outputs": [],
   "source": [
    "from utils import data_report, boxplot, countplot, histograma"
   ]
  },
  {
   "cell_type": "code",
   "execution_count": 3,
   "id": "aa4a1514",
   "metadata": {},
   "outputs": [
    {
     "name": "stderr",
     "output_type": "stream",
     "text": [
      "C:\\Users\\Carlos\\AppData\\Local\\Temp\\ipykernel_11504\\382734325.py:2: DtypeWarning: Columns (29,42) have mixed types. Specify dtype option on import or set low_memory=False.\n",
      "  df = pd.read_csv(ruta + \"\\\\malware.csv\", index_col=0)\n"
     ]
    },
    {
     "data": {
      "text/html": [
       "<div>\n",
       "<style scoped>\n",
       "    .dataframe tbody tr th:only-of-type {\n",
       "        vertical-align: middle;\n",
       "    }\n",
       "\n",
       "    .dataframe tbody tr th {\n",
       "        vertical-align: top;\n",
       "    }\n",
       "\n",
       "    .dataframe thead th {\n",
       "        text-align: right;\n",
       "    }\n",
       "</style>\n",
       "<table border=\"1\" class=\"dataframe\">\n",
       "  <thead>\n",
       "    <tr style=\"text-align: right;\">\n",
       "      <th></th>\n",
       "      <th>MachineIdentifier</th>\n",
       "      <th>ProductName</th>\n",
       "      <th>EngineVersion</th>\n",
       "      <th>AppVersion</th>\n",
       "      <th>AvSigVersion</th>\n",
       "      <th>IsBeta</th>\n",
       "      <th>RtpStateBitfield</th>\n",
       "      <th>IsSxsPassiveMode</th>\n",
       "      <th>DefaultBrowsersIdentifier</th>\n",
       "      <th>AVProductStatesIdentifier</th>\n",
       "      <th>...</th>\n",
       "      <th>Census_FirmwareVersionIdentifier</th>\n",
       "      <th>Census_IsSecureBootEnabled</th>\n",
       "      <th>Census_IsWIMBootEnabled</th>\n",
       "      <th>Census_IsVirtualDevice</th>\n",
       "      <th>Census_IsTouchEnabled</th>\n",
       "      <th>Census_IsPenCapable</th>\n",
       "      <th>Census_IsAlwaysOnAlwaysConnectedCapable</th>\n",
       "      <th>Wdft_IsGamer</th>\n",
       "      <th>Wdft_RegionIdentifier</th>\n",
       "      <th>HasDetections</th>\n",
       "    </tr>\n",
       "  </thead>\n",
       "  <tbody>\n",
       "    <tr>\n",
       "      <th>8427007</th>\n",
       "      <td>f1cd864e97bae82bdf96523e1a539121</td>\n",
       "      <td>win8defender</td>\n",
       "      <td>1.1.15100.1</td>\n",
       "      <td>4.18.1807.18075</td>\n",
       "      <td>1.273.1234.0</td>\n",
       "      <td>0</td>\n",
       "      <td>7.0</td>\n",
       "      <td>0</td>\n",
       "      <td>NaN</td>\n",
       "      <td>53447.0</td>\n",
       "      <td>...</td>\n",
       "      <td>19951.0</td>\n",
       "      <td>0</td>\n",
       "      <td>NaN</td>\n",
       "      <td>0.0</td>\n",
       "      <td>0</td>\n",
       "      <td>0</td>\n",
       "      <td>0.0</td>\n",
       "      <td>0.0</td>\n",
       "      <td>11.0</td>\n",
       "      <td>1</td>\n",
       "    </tr>\n",
       "    <tr>\n",
       "      <th>8829090</th>\n",
       "      <td>fd5ba6f5b75325ec0423a6c67cc75942</td>\n",
       "      <td>win8defender</td>\n",
       "      <td>1.1.15100.1</td>\n",
       "      <td>4.18.1807.18075</td>\n",
       "      <td>1.273.1282.0</td>\n",
       "      <td>0</td>\n",
       "      <td>7.0</td>\n",
       "      <td>0</td>\n",
       "      <td>NaN</td>\n",
       "      <td>53447.0</td>\n",
       "      <td>...</td>\n",
       "      <td>48753.0</td>\n",
       "      <td>0</td>\n",
       "      <td>0.0</td>\n",
       "      <td>0.0</td>\n",
       "      <td>0</td>\n",
       "      <td>0</td>\n",
       "      <td>0.0</td>\n",
       "      <td>1.0</td>\n",
       "      <td>3.0</td>\n",
       "      <td>0</td>\n",
       "    </tr>\n",
       "    <tr>\n",
       "      <th>2731904</th>\n",
       "      <td>4e628391e7cc7c482fb3286f486dbd25</td>\n",
       "      <td>win8defender</td>\n",
       "      <td>1.1.15100.1</td>\n",
       "      <td>4.9.10586.1106</td>\n",
       "      <td>1.273.781.0</td>\n",
       "      <td>0</td>\n",
       "      <td>7.0</td>\n",
       "      <td>0</td>\n",
       "      <td>NaN</td>\n",
       "      <td>46781.0</td>\n",
       "      <td>...</td>\n",
       "      <td>33111.0</td>\n",
       "      <td>1</td>\n",
       "      <td>0.0</td>\n",
       "      <td>0.0</td>\n",
       "      <td>1</td>\n",
       "      <td>1</td>\n",
       "      <td>0.0</td>\n",
       "      <td>0.0</td>\n",
       "      <td>15.0</td>\n",
       "      <td>0</td>\n",
       "    </tr>\n",
       "    <tr>\n",
       "      <th>1359513</th>\n",
       "      <td>270a2e9d028144a4df12a9e3da79fba5</td>\n",
       "      <td>win8defender</td>\n",
       "      <td>1.1.15200.1</td>\n",
       "      <td>4.18.1807.18075</td>\n",
       "      <td>1.275.1639.0</td>\n",
       "      <td>0</td>\n",
       "      <td>7.0</td>\n",
       "      <td>0</td>\n",
       "      <td>NaN</td>\n",
       "      <td>53447.0</td>\n",
       "      <td>...</td>\n",
       "      <td>48473.0</td>\n",
       "      <td>1</td>\n",
       "      <td>NaN</td>\n",
       "      <td>0.0</td>\n",
       "      <td>0</td>\n",
       "      <td>0</td>\n",
       "      <td>0.0</td>\n",
       "      <td>0.0</td>\n",
       "      <td>15.0</td>\n",
       "      <td>1</td>\n",
       "    </tr>\n",
       "    <tr>\n",
       "      <th>236059</th>\n",
       "      <td>06ca8fa8d32c2abdc5b3577d676b3269</td>\n",
       "      <td>win8defender</td>\n",
       "      <td>1.1.15200.1</td>\n",
       "      <td>4.18.1807.18075</td>\n",
       "      <td>1.275.511.0</td>\n",
       "      <td>0</td>\n",
       "      <td>7.0</td>\n",
       "      <td>0</td>\n",
       "      <td>NaN</td>\n",
       "      <td>47238.0</td>\n",
       "      <td>...</td>\n",
       "      <td>4343.0</td>\n",
       "      <td>1</td>\n",
       "      <td>NaN</td>\n",
       "      <td>0.0</td>\n",
       "      <td>1</td>\n",
       "      <td>0</td>\n",
       "      <td>0.0</td>\n",
       "      <td>1.0</td>\n",
       "      <td>13.0</td>\n",
       "      <td>1</td>\n",
       "    </tr>\n",
       "  </tbody>\n",
       "</table>\n",
       "<p>5 rows × 83 columns</p>\n",
       "</div>"
      ],
      "text/plain": [
       "                        MachineIdentifier   ProductName EngineVersion  \\\n",
       "8427007  f1cd864e97bae82bdf96523e1a539121  win8defender   1.1.15100.1   \n",
       "8829090  fd5ba6f5b75325ec0423a6c67cc75942  win8defender   1.1.15100.1   \n",
       "2731904  4e628391e7cc7c482fb3286f486dbd25  win8defender   1.1.15100.1   \n",
       "1359513  270a2e9d028144a4df12a9e3da79fba5  win8defender   1.1.15200.1   \n",
       "236059   06ca8fa8d32c2abdc5b3577d676b3269  win8defender   1.1.15200.1   \n",
       "\n",
       "              AppVersion  AvSigVersion  IsBeta  RtpStateBitfield  \\\n",
       "8427007  4.18.1807.18075  1.273.1234.0       0               7.0   \n",
       "8829090  4.18.1807.18075  1.273.1282.0       0               7.0   \n",
       "2731904   4.9.10586.1106   1.273.781.0       0               7.0   \n",
       "1359513  4.18.1807.18075  1.275.1639.0       0               7.0   \n",
       "236059   4.18.1807.18075   1.275.511.0       0               7.0   \n",
       "\n",
       "         IsSxsPassiveMode  DefaultBrowsersIdentifier  \\\n",
       "8427007                 0                        NaN   \n",
       "8829090                 0                        NaN   \n",
       "2731904                 0                        NaN   \n",
       "1359513                 0                        NaN   \n",
       "236059                  0                        NaN   \n",
       "\n",
       "         AVProductStatesIdentifier  ...  Census_FirmwareVersionIdentifier  \\\n",
       "8427007                    53447.0  ...                           19951.0   \n",
       "8829090                    53447.0  ...                           48753.0   \n",
       "2731904                    46781.0  ...                           33111.0   \n",
       "1359513                    53447.0  ...                           48473.0   \n",
       "236059                     47238.0  ...                            4343.0   \n",
       "\n",
       "         Census_IsSecureBootEnabled  Census_IsWIMBootEnabled  \\\n",
       "8427007                           0                      NaN   \n",
       "8829090                           0                      0.0   \n",
       "2731904                           1                      0.0   \n",
       "1359513                           1                      NaN   \n",
       "236059                            1                      NaN   \n",
       "\n",
       "         Census_IsVirtualDevice  Census_IsTouchEnabled  Census_IsPenCapable  \\\n",
       "8427007                     0.0                      0                    0   \n",
       "8829090                     0.0                      0                    0   \n",
       "2731904                     0.0                      1                    1   \n",
       "1359513                     0.0                      0                    0   \n",
       "236059                      0.0                      1                    0   \n",
       "\n",
       "         Census_IsAlwaysOnAlwaysConnectedCapable  Wdft_IsGamer  \\\n",
       "8427007                                      0.0           0.0   \n",
       "8829090                                      0.0           1.0   \n",
       "2731904                                      0.0           0.0   \n",
       "1359513                                      0.0           0.0   \n",
       "236059                                       0.0           1.0   \n",
       "\n",
       "        Wdft_RegionIdentifier HasDetections  \n",
       "8427007                  11.0             1  \n",
       "8829090                   3.0             0  \n",
       "2731904                  15.0             0  \n",
       "1359513                  15.0             1  \n",
       "236059                   13.0             1  \n",
       "\n",
       "[5 rows x 83 columns]"
      ]
     },
     "execution_count": 3,
     "metadata": {},
     "output_type": "execute_result"
    }
   ],
   "source": [
    "ruta = os.getcwd()\n",
    "df = pd.read_csv(ruta + \"\\\\malware.csv\", index_col=0)\n",
    "df.head(5)"
   ]
  },
  {
   "cell_type": "code",
   "execution_count": 4,
   "id": "2972c31b",
   "metadata": {},
   "outputs": [
    {
     "data": {
      "text/html": [
       "<div>\n",
       "<style scoped>\n",
       "    .dataframe tbody tr th:only-of-type {\n",
       "        vertical-align: middle;\n",
       "    }\n",
       "\n",
       "    .dataframe tbody tr th {\n",
       "        vertical-align: top;\n",
       "    }\n",
       "\n",
       "    .dataframe thead th {\n",
       "        text-align: right;\n",
       "    }\n",
       "</style>\n",
       "<table border=\"1\" class=\"dataframe\">\n",
       "  <thead>\n",
       "    <tr style=\"text-align: right;\">\n",
       "      <th></th>\n",
       "      <th>MachineIdentifier</th>\n",
       "      <th>ProductName</th>\n",
       "      <th>EngineVersion</th>\n",
       "      <th>AppVersion</th>\n",
       "      <th>AvSigVersion</th>\n",
       "      <th>IsBeta</th>\n",
       "      <th>RtpStateBitfield</th>\n",
       "      <th>IsSxsPassiveMode</th>\n",
       "      <th>DefaultBrowsersIdentifier</th>\n",
       "      <th>AVProductStatesIdentifier</th>\n",
       "      <th>...</th>\n",
       "      <th>Census_FirmwareVersionIdentifier</th>\n",
       "      <th>Census_IsSecureBootEnabled</th>\n",
       "      <th>Census_IsWIMBootEnabled</th>\n",
       "      <th>Census_IsVirtualDevice</th>\n",
       "      <th>Census_IsTouchEnabled</th>\n",
       "      <th>Census_IsPenCapable</th>\n",
       "      <th>Census_IsAlwaysOnAlwaysConnectedCapable</th>\n",
       "      <th>Wdft_IsGamer</th>\n",
       "      <th>Wdft_RegionIdentifier</th>\n",
       "      <th>HasDetections</th>\n",
       "    </tr>\n",
       "  </thead>\n",
       "  <tbody>\n",
       "    <tr>\n",
       "      <th>6243734</th>\n",
       "      <td>b334f9993d6e0eeab23c75fe4d8e4be6</td>\n",
       "      <td>win8defender</td>\n",
       "      <td>1.1.15100.1</td>\n",
       "      <td>4.18.1807.18075</td>\n",
       "      <td>1.273.1131.0</td>\n",
       "      <td>0</td>\n",
       "      <td>7.0</td>\n",
       "      <td>0</td>\n",
       "      <td>NaN</td>\n",
       "      <td>53447.0</td>\n",
       "      <td>...</td>\n",
       "      <td>13303.0</td>\n",
       "      <td>0</td>\n",
       "      <td>NaN</td>\n",
       "      <td>0.0</td>\n",
       "      <td>0</td>\n",
       "      <td>0</td>\n",
       "      <td>0.0</td>\n",
       "      <td>1.0</td>\n",
       "      <td>10.0</td>\n",
       "      <td>1</td>\n",
       "    </tr>\n",
       "    <tr>\n",
       "      <th>8329125</th>\n",
       "      <td>eefefb93284f171fafc1e40324286a3c</td>\n",
       "      <td>win8defender</td>\n",
       "      <td>1.1.15200.1</td>\n",
       "      <td>4.18.1807.18075</td>\n",
       "      <td>1.275.1425.0</td>\n",
       "      <td>0</td>\n",
       "      <td>7.0</td>\n",
       "      <td>0</td>\n",
       "      <td>NaN</td>\n",
       "      <td>53447.0</td>\n",
       "      <td>...</td>\n",
       "      <td>65116.0</td>\n",
       "      <td>0</td>\n",
       "      <td>0.0</td>\n",
       "      <td>0.0</td>\n",
       "      <td>0</td>\n",
       "      <td>0</td>\n",
       "      <td>0.0</td>\n",
       "      <td>1.0</td>\n",
       "      <td>10.0</td>\n",
       "      <td>1</td>\n",
       "    </tr>\n",
       "    <tr>\n",
       "      <th>603676</th>\n",
       "      <td>11592cf42ecf84c83b5231a9977ad229</td>\n",
       "      <td>win8defender</td>\n",
       "      <td>1.1.15100.1</td>\n",
       "      <td>4.18.1807.18075</td>\n",
       "      <td>1.273.1094.0</td>\n",
       "      <td>0</td>\n",
       "      <td>7.0</td>\n",
       "      <td>0</td>\n",
       "      <td>NaN</td>\n",
       "      <td>48510.0</td>\n",
       "      <td>...</td>\n",
       "      <td>38102.0</td>\n",
       "      <td>0</td>\n",
       "      <td>0.0</td>\n",
       "      <td>0.0</td>\n",
       "      <td>0</td>\n",
       "      <td>0</td>\n",
       "      <td>0.0</td>\n",
       "      <td>1.0</td>\n",
       "      <td>7.0</td>\n",
       "      <td>1</td>\n",
       "    </tr>\n",
       "    <tr>\n",
       "      <th>3889908</th>\n",
       "      <td>6f9e32b4662967ca35f9c1180fa1dd42</td>\n",
       "      <td>win8defender</td>\n",
       "      <td>1.1.15200.1</td>\n",
       "      <td>4.18.1807.18075</td>\n",
       "      <td>1.275.410.0</td>\n",
       "      <td>0</td>\n",
       "      <td>7.0</td>\n",
       "      <td>0</td>\n",
       "      <td>NaN</td>\n",
       "      <td>53447.0</td>\n",
       "      <td>...</td>\n",
       "      <td>32998.0</td>\n",
       "      <td>0</td>\n",
       "      <td>NaN</td>\n",
       "      <td>0.0</td>\n",
       "      <td>0</td>\n",
       "      <td>0</td>\n",
       "      <td>0.0</td>\n",
       "      <td>1.0</td>\n",
       "      <td>1.0</td>\n",
       "      <td>1</td>\n",
       "    </tr>\n",
       "    <tr>\n",
       "      <th>6350512</th>\n",
       "      <td>b642da2805ea64912520db7ed34a9995</td>\n",
       "      <td>win8defender</td>\n",
       "      <td>1.1.15200.1</td>\n",
       "      <td>4.18.1807.18075</td>\n",
       "      <td>1.275.1730.0</td>\n",
       "      <td>0</td>\n",
       "      <td>0.0</td>\n",
       "      <td>1</td>\n",
       "      <td>NaN</td>\n",
       "      <td>55290.0</td>\n",
       "      <td>...</td>\n",
       "      <td>69888.0</td>\n",
       "      <td>1</td>\n",
       "      <td>NaN</td>\n",
       "      <td>0.0</td>\n",
       "      <td>0</td>\n",
       "      <td>0</td>\n",
       "      <td>0.0</td>\n",
       "      <td>0.0</td>\n",
       "      <td>10.0</td>\n",
       "      <td>1</td>\n",
       "    </tr>\n",
       "  </tbody>\n",
       "</table>\n",
       "<p>5 rows × 83 columns</p>\n",
       "</div>"
      ],
      "text/plain": [
       "                        MachineIdentifier   ProductName EngineVersion  \\\n",
       "6243734  b334f9993d6e0eeab23c75fe4d8e4be6  win8defender   1.1.15100.1   \n",
       "8329125  eefefb93284f171fafc1e40324286a3c  win8defender   1.1.15200.1   \n",
       "603676   11592cf42ecf84c83b5231a9977ad229  win8defender   1.1.15100.1   \n",
       "3889908  6f9e32b4662967ca35f9c1180fa1dd42  win8defender   1.1.15200.1   \n",
       "6350512  b642da2805ea64912520db7ed34a9995  win8defender   1.1.15200.1   \n",
       "\n",
       "              AppVersion  AvSigVersion  IsBeta  RtpStateBitfield  \\\n",
       "6243734  4.18.1807.18075  1.273.1131.0       0               7.0   \n",
       "8329125  4.18.1807.18075  1.275.1425.0       0               7.0   \n",
       "603676   4.18.1807.18075  1.273.1094.0       0               7.0   \n",
       "3889908  4.18.1807.18075   1.275.410.0       0               7.0   \n",
       "6350512  4.18.1807.18075  1.275.1730.0       0               0.0   \n",
       "\n",
       "         IsSxsPassiveMode  DefaultBrowsersIdentifier  \\\n",
       "6243734                 0                        NaN   \n",
       "8329125                 0                        NaN   \n",
       "603676                  0                        NaN   \n",
       "3889908                 0                        NaN   \n",
       "6350512                 1                        NaN   \n",
       "\n",
       "         AVProductStatesIdentifier  ...  Census_FirmwareVersionIdentifier  \\\n",
       "6243734                    53447.0  ...                           13303.0   \n",
       "8329125                    53447.0  ...                           65116.0   \n",
       "603676                     48510.0  ...                           38102.0   \n",
       "3889908                    53447.0  ...                           32998.0   \n",
       "6350512                    55290.0  ...                           69888.0   \n",
       "\n",
       "         Census_IsSecureBootEnabled  Census_IsWIMBootEnabled  \\\n",
       "6243734                           0                      NaN   \n",
       "8329125                           0                      0.0   \n",
       "603676                            0                      0.0   \n",
       "3889908                           0                      NaN   \n",
       "6350512                           1                      NaN   \n",
       "\n",
       "         Census_IsVirtualDevice  Census_IsTouchEnabled  Census_IsPenCapable  \\\n",
       "6243734                     0.0                      0                    0   \n",
       "8329125                     0.0                      0                    0   \n",
       "603676                      0.0                      0                    0   \n",
       "3889908                     0.0                      0                    0   \n",
       "6350512                     0.0                      0                    0   \n",
       "\n",
       "         Census_IsAlwaysOnAlwaysConnectedCapable  Wdft_IsGamer  \\\n",
       "6243734                                      0.0           1.0   \n",
       "8329125                                      0.0           1.0   \n",
       "603676                                       0.0           1.0   \n",
       "3889908                                      0.0           1.0   \n",
       "6350512                                      0.0           0.0   \n",
       "\n",
       "        Wdft_RegionIdentifier HasDetections  \n",
       "6243734                  10.0             1  \n",
       "8329125                  10.0             1  \n",
       "603676                    7.0             1  \n",
       "3889908                   1.0             1  \n",
       "6350512                  10.0             1  \n",
       "\n",
       "[5 rows x 83 columns]"
      ]
     },
     "execution_count": 4,
     "metadata": {},
     "output_type": "execute_result"
    }
   ],
   "source": [
    "df = df.sample(50000)\n",
    "df.head(5)"
   ]
  },
  {
   "cell_type": "code",
   "execution_count": null,
   "id": "5eedfbc9",
   "metadata": {},
   "outputs": [
    {
     "data": {
      "text/plain": [
       "Index(['MachineIdentifier', 'ProductName', 'EngineVersion', 'AppVersion',\n",
       "       'AvSigVersion', 'IsBeta', 'RtpStateBitfield', 'IsSxsPassiveMode',\n",
       "       'DefaultBrowsersIdentifier', 'AVProductStatesIdentifier',\n",
       "       'AVProductsInstalled', 'AVProductsEnabled', 'HasTpm',\n",
       "       'CountryIdentifier', 'CityIdentifier', 'OrganizationIdentifier',\n",
       "       'GeoNameIdentifier', 'LocaleEnglishNameIdentifier', 'Platform',\n",
       "       'Processor', 'OsVer', 'OsBuild', 'OsSuite', 'OsPlatformSubRelease',\n",
       "       'OsBuildLab', 'SkuEdition', 'IsProtected', 'AutoSampleOptIn', 'PuaMode',\n",
       "       'SMode', 'IeVerIdentifier', 'SmartScreen', 'Firewall', 'UacLuaenable',\n",
       "       'Census_MDC2FormFactor', 'Census_DeviceFamily',\n",
       "       'Census_OEMNameIdentifier', 'Census_OEMModelIdentifier',\n",
       "       'Census_ProcessorCoreCount', 'Census_ProcessorManufacturerIdentifier',\n",
       "       'Census_ProcessorModelIdentifier', 'Census_ProcessorClass',\n",
       "       'Census_PrimaryDiskTotalCapacity', 'Census_PrimaryDiskTypeName',\n",
       "       'Census_SystemVolumeTotalCapacity', 'Census_HasOpticalDiskDrive',\n",
       "       'Census_TotalPhysicalRAM', 'Census_ChassisTypeName',\n",
       "       'Census_InternalPrimaryDiagonalDisplaySizeInInches',\n",
       "       'Census_InternalPrimaryDisplayResolutionHorizontal',\n",
       "       'Census_InternalPrimaryDisplayResolutionVertical',\n",
       "       'Census_PowerPlatformRoleName', 'Census_InternalBatteryType',\n",
       "       'Census_InternalBatteryNumberOfCharges', 'Census_OSVersion',\n",
       "       'Census_OSArchitecture', 'Census_OSBranch', 'Census_OSBuildNumber',\n",
       "       'Census_OSBuildRevision', 'Census_OSEdition', 'Census_OSSkuName',\n",
       "       'Census_OSInstallTypeName', 'Census_OSInstallLanguageIdentifier',\n",
       "       'Census_OSUILocaleIdentifier', 'Census_OSWUAutoUpdateOptionsName',\n",
       "       'Census_IsPortableOperatingSystem', 'Census_GenuineStateName',\n",
       "       'Census_ActivationChannel', 'Census_IsFlightingInternal',\n",
       "       'Census_IsFlightsDisabled', 'Census_FlightRing',\n",
       "       'Census_ThresholdOptIn', 'Census_FirmwareManufacturerIdentifier',\n",
       "       'Census_FirmwareVersionIdentifier', 'Census_IsSecureBootEnabled',\n",
       "       'Census_IsWIMBootEnabled', 'Census_IsVirtualDevice',\n",
       "       'Census_IsTouchEnabled', 'Census_IsPenCapable',\n",
       "       'Census_IsAlwaysOnAlwaysConnectedCapable', 'Wdft_IsGamer',\n",
       "       'Wdft_RegionIdentifier', 'HasDetections'],\n",
       "      dtype='object')"
      ]
     },
     "execution_count": 5,
     "metadata": {},
     "output_type": "execute_result"
    }
   ],
   "source": [
    "#Important and first step to know the data\n",
    "df.columns"
   ]
  },
  {
   "cell_type": "code",
   "execution_count": null,
   "id": "8024e55a",
   "metadata": {},
   "outputs": [
    {
     "name": "stdout",
     "output_type": "stream",
     "text": [
      "0\n",
      "66\n",
      "0\n",
      "17\n",
      "1\n",
      "83\n"
     ]
    }
   ],
   "source": [
    "#We see that there are too many columns, let's separate them by type\n",
    "target ='HasDetections'\n",
    "\n",
    "def separar_variables(df):\n",
    "    id_vars = []\n",
    "    num = []\n",
    "    binary = []\n",
    "    cat = []\n",
    "\n",
    "    for i in df:\n",
    "         \n",
    "        if(df[i].dtype.kind == 'i') and (len(df[i].unique() > df.shape[0]*0.9)):\n",
    "            id_vars.append(i)\n",
    "\n",
    "        elif (df[i].dtype.kind == 'i' or df[i].dtype.kind == 'f') and (i not in target) and (len(df[i].unique() != 2)) and not (len(df[i].unique()>df.shape[0]*0.9)):\n",
    "            num.append(i)\n",
    "    \n",
    "        elif (df[i].dtype.kind == 'i' or df[i].dtype.kind == 'f' or df[i].dtype.kind == 'O') and (i not in target) and (len(df[i] == 2)):\n",
    "            binary.append(i)\n",
    "\n",
    "        elif (df[i].dtype.kind == 'O') and (i not in target):\n",
    "            cat.append(i)\n",
    "    \n",
    "        else:\n",
    "            print(target)\n",
    "    \n",
    "    print(len(num))\n",
    "    print(len(binary))\n",
    "    print(len(cat))\n",
    "    print(len(id_vars))\n",
    "    print(1)\n",
    "    print(len(df.columns))\n",
    "    return id_vars, num, binary, cat\n",
    "\n",
    "\n",
    "id_vars, num, binary, cat = separar_variables(df)"
   ]
  },
  {
   "cell_type": "markdown",
   "id": "a22d1378",
   "metadata": {},
   "source": [
    "Descriptive Analysis\n",
    "\n",
    "Locate identifiers and variables with excessive null values ​​(>50%)"
   ]
  },
  {
   "cell_type": "code",
   "execution_count": 7,
   "id": "7cbe9fc0",
   "metadata": {},
   "outputs": [
    {
     "name": "stdout",
     "output_type": "stream",
     "text": [
      "Información general: \n",
      "\n",
      "<class 'pandas.core.frame.DataFrame'>\n",
      "Index: 50000 entries, 6243734 to 6860643\n",
      "Data columns (total 83 columns):\n",
      " #   Column                                             Non-Null Count  Dtype  \n",
      "---  ------                                             --------------  -----  \n",
      " 0   MachineIdentifier                                  50000 non-null  object \n",
      " 1   ProductName                                        50000 non-null  object \n",
      " 2   EngineVersion                                      50000 non-null  object \n",
      " 3   AppVersion                                         50000 non-null  object \n",
      " 4   AvSigVersion                                       50000 non-null  object \n",
      " 5   IsBeta                                             50000 non-null  int64  \n",
      " 6   RtpStateBitfield                                   49824 non-null  float64\n",
      " 7   IsSxsPassiveMode                                   50000 non-null  int64  \n",
      " 8   DefaultBrowsersIdentifier                          2453 non-null   float64\n",
      " 9   AVProductStatesIdentifier                          49797 non-null  float64\n",
      " 10  AVProductsInstalled                                49797 non-null  float64\n",
      " 11  AVProductsEnabled                                  49797 non-null  float64\n",
      " 12  HasTpm                                             50000 non-null  int64  \n",
      " 13  CountryIdentifier                                  50000 non-null  int64  \n",
      " 14  CityIdentifier                                     48187 non-null  float64\n",
      " 15  OrganizationIdentifier                             34805 non-null  float64\n",
      " 16  GeoNameIdentifier                                  49998 non-null  float64\n",
      " 17  LocaleEnglishNameIdentifier                        50000 non-null  int64  \n",
      " 18  Platform                                           50000 non-null  object \n",
      " 19  Processor                                          50000 non-null  object \n",
      " 20  OsVer                                              50000 non-null  object \n",
      " 21  OsBuild                                            50000 non-null  int64  \n",
      " 22  OsSuite                                            50000 non-null  int64  \n",
      " 23  OsPlatformSubRelease                               50000 non-null  object \n",
      " 24  OsBuildLab                                         50000 non-null  object \n",
      " 25  SkuEdition                                         50000 non-null  object \n",
      " 26  IsProtected                                        49797 non-null  float64\n",
      " 27  AutoSampleOptIn                                    50000 non-null  int64  \n",
      " 28  PuaMode                                            10 non-null     object \n",
      " 29  SMode                                              46990 non-null  float64\n",
      " 30  IeVerIdentifier                                    49677 non-null  float64\n",
      " 31  SmartScreen                                        32171 non-null  object \n",
      " 32  Firewall                                           49470 non-null  float64\n",
      " 33  UacLuaenable                                       49946 non-null  float64\n",
      " 34  Census_MDC2FormFactor                              50000 non-null  object \n",
      " 35  Census_DeviceFamily                                50000 non-null  object \n",
      " 36  Census_OEMNameIdentifier                           49467 non-null  float64\n",
      " 37  Census_OEMModelIdentifier                          49445 non-null  float64\n",
      " 38  Census_ProcessorCoreCount                          49772 non-null  float64\n",
      " 39  Census_ProcessorManufacturerIdentifier             49772 non-null  float64\n",
      " 40  Census_ProcessorModelIdentifier                    49772 non-null  float64\n",
      " 41  Census_ProcessorClass                              218 non-null    object \n",
      " 42  Census_PrimaryDiskTotalCapacity                    49691 non-null  float64\n",
      " 43  Census_PrimaryDiskTypeName                         49926 non-null  object \n",
      " 44  Census_SystemVolumeTotalCapacity                   49691 non-null  float64\n",
      " 45  Census_HasOpticalDiskDrive                         50000 non-null  int64  \n",
      " 46  Census_TotalPhysicalRAM                            49535 non-null  float64\n",
      " 47  Census_ChassisTypeName                             49994 non-null  object \n",
      " 48  Census_InternalPrimaryDiagonalDisplaySizeInInches  49736 non-null  float64\n",
      " 49  Census_InternalPrimaryDisplayResolutionHorizontal  49738 non-null  float64\n",
      " 50  Census_InternalPrimaryDisplayResolutionVertical    49738 non-null  float64\n",
      " 51  Census_PowerPlatformRoleName                       50000 non-null  object \n",
      " 52  Census_InternalBatteryType                         14470 non-null  object \n",
      " 53  Census_InternalBatteryNumberOfCharges              48468 non-null  float64\n",
      " 54  Census_OSVersion                                   50000 non-null  object \n",
      " 55  Census_OSArchitecture                              50000 non-null  object \n",
      " 56  Census_OSBranch                                    50000 non-null  object \n",
      " 57  Census_OSBuildNumber                               50000 non-null  int64  \n",
      " 58  Census_OSBuildRevision                             50000 non-null  int64  \n",
      " 59  Census_OSEdition                                   50000 non-null  object \n",
      " 60  Census_OSSkuName                                   50000 non-null  object \n",
      " 61  Census_OSInstallTypeName                           50000 non-null  object \n",
      " 62  Census_OSInstallLanguageIdentifier                 49692 non-null  float64\n",
      " 63  Census_OSUILocaleIdentifier                        50000 non-null  int64  \n",
      " 64  Census_OSWUAutoUpdateOptionsName                   50000 non-null  object \n",
      " 65  Census_IsPortableOperatingSystem                   50000 non-null  int64  \n",
      " 66  Census_GenuineStateName                            50000 non-null  object \n",
      " 67  Census_ActivationChannel                           50000 non-null  object \n",
      " 68  Census_IsFlightingInternal                         8502 non-null   float64\n",
      " 69  Census_IsFlightsDisabled                           49080 non-null  float64\n",
      " 70  Census_FlightRing                                  50000 non-null  object \n",
      " 71  Census_ThresholdOptIn                              18195 non-null  float64\n",
      " 72  Census_FirmwareManufacturerIdentifier              48929 non-null  float64\n",
      " 73  Census_FirmwareVersionIdentifier                   49059 non-null  float64\n",
      " 74  Census_IsSecureBootEnabled                         50000 non-null  int64  \n",
      " 75  Census_IsWIMBootEnabled                            18243 non-null  float64\n",
      " 76  Census_IsVirtualDevice                             49907 non-null  float64\n",
      " 77  Census_IsTouchEnabled                              50000 non-null  int64  \n",
      " 78  Census_IsPenCapable                                50000 non-null  int64  \n",
      " 79  Census_IsAlwaysOnAlwaysConnectedCapable            49574 non-null  float64\n",
      " 80  Wdft_IsGamer                                       48297 non-null  float64\n",
      " 81  Wdft_RegionIdentifier                              48297 non-null  float64\n",
      " 82  HasDetections                                      50000 non-null  int64  \n",
      "dtypes: float64(36), int64(17), object(30)\n",
      "memory usage: 32.0+ MB\n",
      "None\n",
      "\n",
      "\n",
      "Resumen estadístico: \n",
      "\n",
      "        IsBeta  RtpStateBitfield  IsSxsPassiveMode  DefaultBrowsersIdentifier  \\\n",
      "count  50000.0      49824.000000      50000.000000                2453.000000   \n",
      "mean       0.0          6.839114          0.018040                1632.538117   \n",
      "std        0.0          1.044485          0.133097                 998.976435   \n",
      "min        0.0          0.000000          0.000000                   7.000000   \n",
      "25%        0.0          7.000000          0.000000                 773.000000   \n",
      "50%        0.0          7.000000          0.000000                1632.000000   \n",
      "75%        0.0          7.000000          0.000000                2290.000000   \n",
      "max        0.0          8.000000          1.000000                3195.000000   \n",
      "\n",
      "       AVProductStatesIdentifier  AVProductsInstalled  AVProductsEnabled  \\\n",
      "count               49797.000000         49797.000000       49797.000000   \n",
      "mean                47870.786272             1.328594           1.020704   \n",
      "std                 14030.744079             0.522761           0.166452   \n",
      "min                    17.000000             1.000000           0.000000   \n",
      "25%                 49480.000000             1.000000           1.000000   \n",
      "50%                 53447.000000             1.000000           1.000000   \n",
      "75%                 53447.000000             2.000000           1.000000   \n",
      "max                 70492.000000             5.000000           4.000000   \n",
      "\n",
      "             HasTpm  CountryIdentifier  CityIdentifier  ...  \\\n",
      "count  50000.000000       50000.000000    48187.000000  ...   \n",
      "mean       0.987440         108.390960    81076.064582  ...   \n",
      "std        0.111366          63.081485    48996.550663  ...   \n",
      "min        0.000000           1.000000        8.000000  ...   \n",
      "25%        1.000000          51.000000    36049.000000  ...   \n",
      "50%        1.000000          97.000000    82373.000000  ...   \n",
      "75%        1.000000         164.000000   123782.000000  ...   \n",
      "max        1.000000         222.000000   167958.000000  ...   \n",
      "\n",
      "       Census_FirmwareVersionIdentifier  Census_IsSecureBootEnabled  \\\n",
      "count                      49059.000000                50000.000000   \n",
      "mean                       33029.231191                    0.489060   \n",
      "std                        21242.503005                    0.499885   \n",
      "min                           37.000000                    0.000000   \n",
      "25%                        12996.000000                    0.000000   \n",
      "50%                        33070.000000                    0.000000   \n",
      "75%                        52436.000000                    1.000000   \n",
      "max                        72091.000000                    1.000000   \n",
      "\n",
      "       Census_IsWIMBootEnabled  Census_IsVirtualDevice  Census_IsTouchEnabled  \\\n",
      "count                  18243.0            49907.000000           50000.000000   \n",
      "mean                       0.0                0.006813               0.125460   \n",
      "std                        0.0                0.082258               0.331243   \n",
      "min                        0.0                0.000000               0.000000   \n",
      "25%                        0.0                0.000000               0.000000   \n",
      "50%                        0.0                0.000000               0.000000   \n",
      "75%                        0.0                0.000000               0.000000   \n",
      "max                        0.0                1.000000               1.000000   \n",
      "\n",
      "       Census_IsPenCapable  Census_IsAlwaysOnAlwaysConnectedCapable  \\\n",
      "count         50000.000000                             49574.000000   \n",
      "mean              0.037400                                 0.058095   \n",
      "std               0.189742                                 0.233925   \n",
      "min               0.000000                                 0.000000   \n",
      "25%               0.000000                                 0.000000   \n",
      "50%               0.000000                                 0.000000   \n",
      "75%               0.000000                                 0.000000   \n",
      "max               1.000000                                 1.000000   \n",
      "\n",
      "       Wdft_IsGamer  Wdft_RegionIdentifier  HasDetections  \n",
      "count  48297.000000           48297.000000   50000.000000  \n",
      "mean       0.284407               7.877384       0.496000  \n",
      "std        0.451136               4.541924       0.499989  \n",
      "min        0.000000               1.000000       0.000000  \n",
      "25%        0.000000               3.000000       0.000000  \n",
      "50%        0.000000              10.000000       0.000000  \n",
      "75%        1.000000              11.000000       1.000000  \n",
      "max        1.000000              15.000000       1.000000  \n",
      "\n",
      "[8 rows x 53 columns]\n",
      "\n",
      "\n",
      "Valores nulos: \n",
      "\n",
      "MachineIdentifier                             0\n",
      "ProductName                                   0\n",
      "EngineVersion                                 0\n",
      "AppVersion                                    0\n",
      "AvSigVersion                                  0\n",
      "                                           ... \n",
      "Census_IsPenCapable                           0\n",
      "Census_IsAlwaysOnAlwaysConnectedCapable     426\n",
      "Wdft_IsGamer                               1703\n",
      "Wdft_RegionIdentifier                      1703\n",
      "HasDetections                                 0\n",
      "Length: 83, dtype: int64\n",
      "\n",
      "\n",
      "Valores únicos: \n",
      "\n",
      "MachineIdentifier  :  50000\n",
      "ProductName  :  2\n",
      "EngineVersion  :  44\n",
      "AppVersion  :  73\n",
      "AvSigVersion  :  3117\n",
      "IsBeta  :  1\n",
      "RtpStateBitfield  :  6\n",
      "IsSxsPassiveMode  :  2\n",
      "DefaultBrowsersIdentifier  :  186\n",
      "AVProductStatesIdentifier  :  1439\n",
      "AVProductsInstalled  :  5\n",
      "AVProductsEnabled  :  5\n",
      "HasTpm  :  2\n",
      "CountryIdentifier  :  218\n",
      "CityIdentifier  :  10432\n",
      "OrganizationIdentifier  :  32\n",
      "GeoNameIdentifier  :  225\n",
      "LocaleEnglishNameIdentifier  :  182\n",
      "Platform  :  4\n",
      "Processor  :  3\n",
      "OsVer  :  9\n",
      "OsBuild  :  30\n",
      "OsSuite  :  6\n",
      "OsPlatformSubRelease  :  9\n",
      "OsBuildLab  :  292\n",
      "SkuEdition  :  8\n",
      "IsProtected  :  2\n",
      "AutoSampleOptIn  :  2\n",
      "PuaMode  :  1\n",
      "SMode  :  2\n",
      "IeVerIdentifier  :  122\n",
      "SmartScreen  :  11\n",
      "Firewall  :  2\n",
      "UacLuaenable  :  3\n",
      "Census_MDC2FormFactor  :  11\n",
      "Census_DeviceFamily  :  2\n",
      "Census_OEMNameIdentifier  :  649\n",
      "Census_OEMModelIdentifier  :  10780\n",
      "Census_ProcessorCoreCount  :  17\n",
      "Census_ProcessorManufacturerIdentifier  :  4\n",
      "Census_ProcessorModelIdentifier  :  1493\n",
      "Census_ProcessorClass  :  3\n",
      "Census_PrimaryDiskTotalCapacity  :  336\n",
      "Census_PrimaryDiskTypeName  :  4\n",
      "Census_SystemVolumeTotalCapacity  :  26191\n",
      "Census_HasOpticalDiskDrive  :  2\n",
      "Census_TotalPhysicalRAM  :  112\n",
      "Census_ChassisTypeName  :  22\n",
      "Census_InternalPrimaryDiagonalDisplaySizeInInches  :  313\n",
      "Census_InternalPrimaryDisplayResolutionHorizontal  :  110\n",
      "Census_InternalPrimaryDisplayResolutionVertical  :  129\n",
      "Census_PowerPlatformRoleName  :  8\n",
      "Census_InternalBatteryType  :  17\n",
      "Census_InternalBatteryNumberOfCharges  :  1135\n",
      "Census_OSVersion  :  241\n",
      "Census_OSArchitecture  :  3\n",
      "Census_OSBranch  :  13\n",
      "Census_OSBuildNumber  :  31\n",
      "Census_OSBuildRevision  :  211\n",
      "Census_OSEdition  :  19\n",
      "Census_OSSkuName  :  18\n",
      "Census_OSInstallTypeName  :  9\n",
      "Census_OSInstallLanguageIdentifier  :  39\n",
      "Census_OSUILocaleIdentifier  :  55\n",
      "Census_OSWUAutoUpdateOptionsName  :  6\n",
      "Census_IsPortableOperatingSystem  :  2\n",
      "Census_GenuineStateName  :  4\n",
      "Census_ActivationChannel  :  6\n",
      "Census_IsFlightingInternal  :  2\n",
      "Census_IsFlightsDisabled  :  1\n",
      "Census_FlightRing  :  7\n",
      "Census_ThresholdOptIn  :  2\n",
      "Census_FirmwareManufacturerIdentifier  :  139\n",
      "Census_FirmwareVersionIdentifier  :  9008\n",
      "Census_IsSecureBootEnabled  :  2\n",
      "Census_IsWIMBootEnabled  :  1\n",
      "Census_IsVirtualDevice  :  2\n",
      "Census_IsTouchEnabled  :  2\n",
      "Census_IsPenCapable  :  2\n",
      "Census_IsAlwaysOnAlwaysConnectedCapable  :  2\n",
      "Wdft_IsGamer  :  2\n",
      "Wdft_RegionIdentifier  :  15\n",
      "HasDetections  :  2\n",
      "\n",
      "\n",
      "Valores repetidos: \n",
      "\n",
      "0\n",
      "\n",
      "\n"
     ]
    }
   ],
   "source": [
    "data_report(df)"
   ]
  },
  {
   "cell_type": "code",
   "execution_count": null,
   "id": "3a8b148a",
   "metadata": {},
   "outputs": [
    {
     "data": {
      "text/html": [
       "<div>\n",
       "<style scoped>\n",
       "    .dataframe tbody tr th:only-of-type {\n",
       "        vertical-align: middle;\n",
       "    }\n",
       "\n",
       "    .dataframe tbody tr th {\n",
       "        vertical-align: top;\n",
       "    }\n",
       "\n",
       "    .dataframe thead th {\n",
       "        text-align: right;\n",
       "    }\n",
       "</style>\n",
       "<table border=\"1\" class=\"dataframe\">\n",
       "  <thead>\n",
       "    <tr style=\"text-align: right;\">\n",
       "      <th></th>\n",
       "      <th>AVProductStatesIdentifier</th>\n",
       "      <th>CountryIdentifier</th>\n",
       "      <th>CityIdentifier</th>\n",
       "      <th>GeoNameIdentifier</th>\n",
       "      <th>LocaleEnglishNameIdentifier</th>\n",
       "      <th>IeVerIdentifier</th>\n",
       "      <th>Census_OEMNameIdentifier</th>\n",
       "      <th>Census_ProcessorManufacturerIdentifier</th>\n",
       "      <th>Census_ProcessorModelIdentifier</th>\n",
       "      <th>Census_OSInstallLanguageIdentifier</th>\n",
       "      <th>Census_OSUILocaleIdentifier</th>\n",
       "      <th>Census_FirmwareManufacturerIdentifier</th>\n",
       "      <th>Census_FirmwareVersionIdentifier</th>\n",
       "    </tr>\n",
       "  </thead>\n",
       "  <tbody>\n",
       "    <tr>\n",
       "      <th>6243734</th>\n",
       "      <td>53447.0</td>\n",
       "      <td>141</td>\n",
       "      <td>148387.0</td>\n",
       "      <td>167.0</td>\n",
       "      <td>227</td>\n",
       "      <td>137.0</td>\n",
       "      <td>778.0</td>\n",
       "      <td>1.0</td>\n",
       "      <td>446.0</td>\n",
       "      <td>10.0</td>\n",
       "      <td>35</td>\n",
       "      <td>809.0</td>\n",
       "      <td>13303.0</td>\n",
       "    </tr>\n",
       "    <tr>\n",
       "      <th>8329125</th>\n",
       "      <td>53447.0</td>\n",
       "      <td>99</td>\n",
       "      <td>16615.0</td>\n",
       "      <td>277.0</td>\n",
       "      <td>75</td>\n",
       "      <td>137.0</td>\n",
       "      <td>3035.0</td>\n",
       "      <td>5.0</td>\n",
       "      <td>4326.0</td>\n",
       "      <td>8.0</td>\n",
       "      <td>31</td>\n",
       "      <td>142.0</td>\n",
       "      <td>65116.0</td>\n",
       "    </tr>\n",
       "    <tr>\n",
       "      <th>603676</th>\n",
       "      <td>48510.0</td>\n",
       "      <td>43</td>\n",
       "      <td>134580.0</td>\n",
       "      <td>53.0</td>\n",
       "      <td>42</td>\n",
       "      <td>135.0</td>\n",
       "      <td>2668.0</td>\n",
       "      <td>5.0</td>\n",
       "      <td>2569.0</td>\n",
       "      <td>37.0</td>\n",
       "      <td>158</td>\n",
       "      <td>628.0</td>\n",
       "      <td>38102.0</td>\n",
       "    </tr>\n",
       "    <tr>\n",
       "      <th>3889908</th>\n",
       "      <td>53447.0</td>\n",
       "      <td>31</td>\n",
       "      <td>51041.0</td>\n",
       "      <td>277.0</td>\n",
       "      <td>75</td>\n",
       "      <td>137.0</td>\n",
       "      <td>2102.0</td>\n",
       "      <td>1.0</td>\n",
       "      <td>684.0</td>\n",
       "      <td>8.0</td>\n",
       "      <td>31</td>\n",
       "      <td>93.0</td>\n",
       "      <td>32998.0</td>\n",
       "    </tr>\n",
       "    <tr>\n",
       "      <th>6350512</th>\n",
       "      <td>55290.0</td>\n",
       "      <td>155</td>\n",
       "      <td>82373.0</td>\n",
       "      <td>201.0</td>\n",
       "      <td>231</td>\n",
       "      <td>98.0</td>\n",
       "      <td>525.0</td>\n",
       "      <td>5.0</td>\n",
       "      <td>1998.0</td>\n",
       "      <td>9.0</td>\n",
       "      <td>34</td>\n",
       "      <td>142.0</td>\n",
       "      <td>69888.0</td>\n",
       "    </tr>\n",
       "  </tbody>\n",
       "</table>\n",
       "</div>"
      ],
      "text/plain": [
       "         AVProductStatesIdentifier  CountryIdentifier  CityIdentifier  \\\n",
       "6243734                    53447.0                141        148387.0   \n",
       "8329125                    53447.0                 99         16615.0   \n",
       "603676                     48510.0                 43        134580.0   \n",
       "3889908                    53447.0                 31         51041.0   \n",
       "6350512                    55290.0                155         82373.0   \n",
       "\n",
       "         GeoNameIdentifier  LocaleEnglishNameIdentifier  IeVerIdentifier  \\\n",
       "6243734              167.0                          227            137.0   \n",
       "8329125              277.0                           75            137.0   \n",
       "603676                53.0                           42            135.0   \n",
       "3889908              277.0                           75            137.0   \n",
       "6350512              201.0                          231             98.0   \n",
       "\n",
       "         Census_OEMNameIdentifier  Census_ProcessorManufacturerIdentifier  \\\n",
       "6243734                     778.0                                     1.0   \n",
       "8329125                    3035.0                                     5.0   \n",
       "603676                     2668.0                                     5.0   \n",
       "3889908                    2102.0                                     1.0   \n",
       "6350512                     525.0                                     5.0   \n",
       "\n",
       "         Census_ProcessorModelIdentifier  Census_OSInstallLanguageIdentifier  \\\n",
       "6243734                            446.0                                10.0   \n",
       "8329125                           4326.0                                 8.0   \n",
       "603676                            2569.0                                37.0   \n",
       "3889908                            684.0                                 8.0   \n",
       "6350512                           1998.0                                 9.0   \n",
       "\n",
       "         Census_OSUILocaleIdentifier  Census_FirmwareManufacturerIdentifier  \\\n",
       "6243734                           35                                  809.0   \n",
       "8329125                           31                                  142.0   \n",
       "603676                           158                                  628.0   \n",
       "3889908                           31                                   93.0   \n",
       "6350512                           34                                  142.0   \n",
       "\n",
       "         Census_FirmwareVersionIdentifier  \n",
       "6243734                           13303.0  \n",
       "8329125                           65116.0  \n",
       "603676                            38102.0  \n",
       "3889908                           32998.0  \n",
       "6350512                           69888.0  "
      ]
     },
     "execution_count": 8,
     "metadata": {},
     "output_type": "execute_result"
    }
   ],
   "source": [
    "#A new df is created with the id columns to see if it is worth keeping them in the original df\n",
    "\n",
    "df1 = df[[\"AVProductStatesIdentifier\",\"CountryIdentifier\",\"CityIdentifier\",\"GeoNameIdentifier\",\"LocaleEnglishNameIdentifier\",\"IeVerIdentifier\",\"Census_OEMNameIdentifier\",\"Census_ProcessorManufacturerIdentifier\",\"Census_ProcessorModelIdentifier\",\"Census_OSInstallLanguageIdentifier\",\"Census_OSUILocaleIdentifier\",\"Census_FirmwareManufacturerIdentifier\",\"Census_FirmwareVersionIdentifier\"]]\n",
    "\n",
    "df1.head()"
   ]
  },
  {
   "cell_type": "code",
   "execution_count": null,
   "id": "631228c7",
   "metadata": {},
   "outputs": [
    {
     "name": "stdout",
     "output_type": "stream",
     "text": [
      "Información general: \n",
      "\n",
      "<class 'pandas.core.frame.DataFrame'>\n",
      "Index: 50000 entries, 6243734 to 6860643\n",
      "Data columns (total 13 columns):\n",
      " #   Column                                  Non-Null Count  Dtype  \n",
      "---  ------                                  --------------  -----  \n",
      " 0   AVProductStatesIdentifier               49797 non-null  float64\n",
      " 1   CountryIdentifier                       50000 non-null  int64  \n",
      " 2   CityIdentifier                          48187 non-null  float64\n",
      " 3   GeoNameIdentifier                       49998 non-null  float64\n",
      " 4   LocaleEnglishNameIdentifier             50000 non-null  int64  \n",
      " 5   IeVerIdentifier                         49677 non-null  float64\n",
      " 6   Census_OEMNameIdentifier                49467 non-null  float64\n",
      " 7   Census_ProcessorManufacturerIdentifier  49772 non-null  float64\n",
      " 8   Census_ProcessorModelIdentifier         49772 non-null  float64\n",
      " 9   Census_OSInstallLanguageIdentifier      49692 non-null  float64\n",
      " 10  Census_OSUILocaleIdentifier             50000 non-null  int64  \n",
      " 11  Census_FirmwareManufacturerIdentifier   48929 non-null  float64\n",
      " 12  Census_FirmwareVersionIdentifier        49059 non-null  float64\n",
      "dtypes: float64(10), int64(3)\n",
      "memory usage: 5.3 MB\n",
      "None\n",
      "\n",
      "\n",
      "Resumen estadístico: \n",
      "\n",
      "       AVProductStatesIdentifier  CountryIdentifier  CityIdentifier  \\\n",
      "count               49797.000000       50000.000000    48187.000000   \n",
      "mean                47870.786272         108.390960    81076.064582   \n",
      "std                 14030.744079          63.081485    48996.550663   \n",
      "min                    17.000000           1.000000        8.000000   \n",
      "25%                 49480.000000          51.000000    36049.000000   \n",
      "50%                 53447.000000          97.000000    82373.000000   \n",
      "75%                 53447.000000         164.000000   123782.000000   \n",
      "max                 70492.000000         222.000000   167958.000000   \n",
      "\n",
      "       GeoNameIdentifier  LocaleEnglishNameIdentifier  IeVerIdentifier  \\\n",
      "count       49998.000000                 50000.000000     49677.000000   \n",
      "mean          170.029541                   122.864700       126.599674   \n",
      "std            89.002311                    69.365546        42.465621   \n",
      "min             1.000000                     1.000000        15.000000   \n",
      "25%            89.000000                    74.000000       111.000000   \n",
      "50%           181.000000                    88.000000       135.000000   \n",
      "75%           267.000000                   182.000000       137.000000   \n",
      "max           295.000000                   283.000000       429.000000   \n",
      "\n",
      "       Census_OEMNameIdentifier  Census_ProcessorManufacturerIdentifier  \\\n",
      "count              49467.000000                            49772.000000   \n",
      "mean                2214.554592                                4.530218   \n",
      "std                 1314.722543                                1.288454   \n",
      "min                   74.000000                                1.000000   \n",
      "25%                 1443.000000                                5.000000   \n",
      "50%                 2102.000000                                5.000000   \n",
      "75%                 2668.000000                                5.000000   \n",
      "max                 6062.000000                               10.000000   \n",
      "\n",
      "       Census_ProcessorModelIdentifier  Census_OSInstallLanguageIdentifier  \\\n",
      "count                     49772.000000                        49692.000000   \n",
      "mean                       2369.329583                           14.611648   \n",
      "std                         839.820699                           10.208348   \n",
      "min                          19.000000                            1.000000   \n",
      "25%                        1998.000000                            8.000000   \n",
      "50%                        2500.000000                            9.000000   \n",
      "75%                        2865.000000                           20.000000   \n",
      "max                        4468.000000                           39.000000   \n",
      "\n",
      "       Census_OSUILocaleIdentifier  Census_FirmwareManufacturerIdentifier  \\\n",
      "count                 50000.000000                           48929.000000   \n",
      "mean                     60.451240                             402.462119   \n",
      "std                      44.996551                             221.784413   \n",
      "min                       5.000000                              34.000000   \n",
      "25%                      31.000000                             142.000000   \n",
      "50%                      34.000000                             500.000000   \n",
      "75%                     105.000000                             556.000000   \n",
      "max                     162.000000                            1083.000000   \n",
      "\n",
      "       Census_FirmwareVersionIdentifier  \n",
      "count                      49059.000000  \n",
      "mean                       33029.231191  \n",
      "std                        21242.503005  \n",
      "min                           37.000000  \n",
      "25%                        12996.000000  \n",
      "50%                        33070.000000  \n",
      "75%                        52436.000000  \n",
      "max                        72091.000000  \n",
      "\n",
      "\n",
      "Valores nulos: \n",
      "\n",
      "AVProductStatesIdentifier                  203\n",
      "CountryIdentifier                            0\n",
      "CityIdentifier                            1813\n",
      "GeoNameIdentifier                            2\n",
      "LocaleEnglishNameIdentifier                  0\n",
      "IeVerIdentifier                            323\n",
      "Census_OEMNameIdentifier                   533\n",
      "Census_ProcessorManufacturerIdentifier     228\n",
      "Census_ProcessorModelIdentifier            228\n",
      "Census_OSInstallLanguageIdentifier         308\n",
      "Census_OSUILocaleIdentifier                  0\n",
      "Census_FirmwareManufacturerIdentifier     1071\n",
      "Census_FirmwareVersionIdentifier           941\n",
      "dtype: int64\n",
      "\n",
      "\n",
      "Valores únicos: \n",
      "\n",
      "AVProductStatesIdentifier  :  1439\n",
      "CountryIdentifier  :  218\n",
      "CityIdentifier  :  10432\n",
      "GeoNameIdentifier  :  225\n",
      "LocaleEnglishNameIdentifier  :  182\n",
      "IeVerIdentifier  :  122\n",
      "Census_OEMNameIdentifier  :  649\n",
      "Census_ProcessorManufacturerIdentifier  :  4\n",
      "Census_ProcessorModelIdentifier  :  1493\n",
      "Census_OSInstallLanguageIdentifier  :  39\n",
      "Census_OSUILocaleIdentifier  :  55\n",
      "Census_FirmwareManufacturerIdentifier  :  139\n",
      "Census_FirmwareVersionIdentifier  :  9008\n",
      "\n",
      "\n",
      "Valores repetidos: \n",
      "\n",
      "95\n",
      "\n",
      "\n"
     ]
    }
   ],
   "source": [
    "#The function shows which columns have unique values ​​and based on whether there are more than 60 unique values, they will be deleted.\n",
    "data_report(df1)"
   ]
  },
  {
   "cell_type": "markdown",
   "id": "b5348d6e",
   "metadata": {},
   "source": [
    "Exploratory Analysis"
   ]
  },
  {
   "cell_type": "code",
   "execution_count": 10,
   "id": "4318500c",
   "metadata": {},
   "outputs": [],
   "source": [
    "#countplot(df[[\n",
    "#    'EngineVersion',\n",
    "#    'AppVersion',\n",
    "#    'AvSigVersion',\n",
    "#    'Platform',\n",
    "#    'Processor',\n",
    "#    'OsVer',\n",
    "#    'OsPlatformSubRelease',\n",
    "#    'OsBuildLab',\n",
    "#    'SkuEdition',\n",
    "#    'Census_MDC2FormFactor',\n",
    "#    'Census_PrimaryDiskTypeName',\n",
    "#    'Census_PowerPlatformRoleName',\n",
    "#    'Census_OSVersion',\n",
    "#    'Census_OSArchitecture',\n",
    "#    'Census_OSBranch',\n",
    "#    'Census_OSEdition',\n",
    "#    'Census_OSSkuName',\n",
    "#    'Census_OSInstallTypeName',\n",
    "#    'Census_OSWUAutoUpdateOptionsName',\n",
    "#    'Census_GenuineStateName',\n",
    "#    'Census_ActivationChannel',\n",
    "#    'Census_FlightRing'\n",
    "#]])"
   ]
  },
  {
   "cell_type": "code",
   "execution_count": 11,
   "id": "89015b68",
   "metadata": {},
   "outputs": [
    {
     "data": {
      "image/png": "[encoded data removed]",
      "text/plain": [
       "<Figure size 1200x600 with 1 Axes>"
      ]
     },
     "metadata": {},
     "output_type": "display_data"
    },
    {
     "data": {
      "image/png": "[encoded data removed]",
      "text/plain": [
       "<Figure size 640x480 with 1 Axes>"
      ]
     },
     "metadata": {},
     "output_type": "display_data"
    },
    {
     "data": {
      "image/png": "[encoded data removed]",
      "text/plain": [
       "<Figure size 640x480 with 1 Axes>"
      ]
     },
     "metadata": {},
     "output_type": "display_data"
    },
    {
     "data": {
      "image/png": "[encoded data removed]",
      "text/plain": [
       "<Figure size 640x480 with 1 Axes>"
      ]
     },
     "metadata": {},
     "output_type": "display_data"
    },
    {
     "data": {
      "image/png": "[encoded data removed]",
      "text/plain": [
       "<Figure size 640x480 with 1 Axes>"
      ]
     },
     "metadata": {},
     "output_type": "display_data"
    },
    {
     "data": {
      "image/png": "[encoded data removed]",
      "text/plain": [
       "<Figure size 640x480 with 1 Axes>"
      ]
     },
     "metadata": {},
     "output_type": "display_data"
    },
    {
     "data": {
      "image/png": "[encoded data removed]",
      "text/plain": [
       "<Figure size 640x480 with 1 Axes>"
      ]
     },
     "metadata": {},
     "output_type": "display_data"
    },
    {
     "data": {
      "image/png": "[encoded data removed]",
      "text/plain": [
       "<Figure size 640x480 with 1 Axes>"
      ]
     },
     "metadata": {},
     "output_type": "display_data"
    },
    {
     "data": {
      "image/png": "[encoded data removed]",
      "text/plain": [
       "<Figure size 640x480 with 1 Axes>"
      ]
     },
     "metadata": {},
     "output_type": "display_data"
    },
    {
     "data": {
      "image/png": "[encoded data removed]",
      "text/plain": [
       "<Figure size 640x480 with 1 Axes>"
      ]
     },
     "metadata": {},
     "output_type": "display_data"
    },
    {
     "data": {
      "image/png": "[encoded data removed]",
      "text/plain": [
       "<Figure size 640x480 with 1 Axes>"
      ]
     },
     "metadata": {},
     "output_type": "display_data"
    }
   ],
   "source": [
    "countplot(df[[\n",
    "    'ProductName',\n",
    "    'IsSxsPassiveMode',\n",
    "    'HasTpm',\n",
    "    'AutoSampleOptIn',\n",
    "    'Census_DeviceFamily',\n",
    "    'Census_HasOpticalDiskDrive',\n",
    "    'Census_IsPortableOperatingSystem',\n",
    "    'Census_IsFlightsDisabled',\n",
    "    'Census_IsSecureBootEnabled',\n",
    "    'Census_IsTouchEnabled',\n",
    "    'Census_IsPenCapable'\n",
    "]])"
   ]
  },
  {
   "cell_type": "markdown",
   "id": "ceb36d5a",
   "metadata": {},
   "source": [
    "Limpieza de datos"
   ]
  },
  {
   "cell_type": "code",
   "execution_count": null,
   "id": "aaa360ae",
   "metadata": {},
   "outputs": [],
   "source": [
    "#Set the MachineIdentifier column as an index\n",
    "df.set_index(\"MachineIdentifier\", inplace=True)"
   ]
  },
  {
   "cell_type": "code",
   "execution_count": null,
   "id": "ff9c2542",
   "metadata": {},
   "outputs": [],
   "source": [
    "#Delete columns that have more than 50% null values\n",
    "df.drop(columns=[\"Wdft_RegionIdentifier\",\"DefaultBrowsersIdentifier\",\"OrganizationIdentifier\",\"PuaMode\",\"Census_ProcessorClass\",\"Census_InternalBatteryType\",\"Census_IsFlightingInternal\",\"Census_ThresholdOptIn\",\"Census_ThresholdOptIn\",\"Census_IsWIMBootEnabled\",\"SmartScreen\"], inplace=True)"
   ]
  },
  {
   "cell_type": "code",
   "execution_count": null,
   "id": "e67b96a2",
   "metadata": {},
   "outputs": [],
   "source": [
    "#Columns with id\n",
    "df.drop(columns=[\"AVProductStatesIdentifier\",\"CountryIdentifier\",\"CityIdentifier\",\"GeoNameIdentifier\",\"LocaleEnglishNameIdentifier\",\"IeVerIdentifier\",\"Census_OEMNameIdentifier\",\"Census_ProcessorModelIdentifier\",\"Census_FirmwareManufacturerIdentifier\",\"Census_FirmwareVersionIdentifier\"],inplace=True)"
   ]
  },
  {
   "cell_type": "code",
   "execution_count": null,
   "id": "57a81a2f",
   "metadata": {},
   "outputs": [],
   "source": [
    "#Eliminate unbalanced binary variables\n",
    "df.drop(columns=[\n",
    "    'ProductName',\n",
    "    'IsSxsPassiveMode',\n",
    "    'HasTpm',\n",
    "    'AutoSampleOptIn',\n",
    "    'Census_DeviceFamily',\n",
    "    'Census_IsPortableOperatingSystem',\n",
    "    'Census_IsFlightsDisabled',\n",
    "    'Census_IsPenCapable'\n",
    "], inplace=True)"
   ]
  },
  {
   "cell_type": "code",
   "execution_count": null,
   "id": "258eeb83",
   "metadata": {},
   "outputs": [],
   "source": [
    "#Change typographic values ​​within a specific column\n",
    "\n",
    "df[\"Census_ChassisTypeName\"] = df[\"Census_ChassisTypeName\"].replace(\"25\",\"Other\")\n",
    "df[\"Census_ChassisTypeName\"] = df[\"Census_ChassisTypeName\"].replace('ExpansionChassis','Other')\n",
    "df[\"Census_ChassisTypeName\"] = df[\"Census_ChassisTypeName\"].replace('32','Other')\n",
    "df[\"Census_ChassisTypeName\"] = df[\"Census_ChassisTypeName\"].replace('SubChassis','Other')\n",
    "df[\"Census_ChassisTypeName\"] = df[\"Census_ChassisTypeName\"].replace('31','Other')\n",
    "df[\"Census_ChassisTypeName\"] = df[\"Census_ChassisTypeName\"].replace('Blade','Other')\n",
    "df[\"Census_ChassisTypeName\"] = df[\"Census_ChassisTypeName\"].replace('PizzaBox','Other')\n",
    "df[\"Census_ChassisTypeName\"] = df[\"Census_ChassisTypeName\"].replace('35','Other')\n",
    "df[\"Census_ChassisTypeName\"] = df[\"Census_ChassisTypeName\"].replace('MultisystemChassis','Other')\n",
    "df[\"Census_ChassisTypeName\"] = df[\"Census_ChassisTypeName\"].replace('0','Other')\n",
    "df[\"Census_ChassisTypeName\"] = df[\"Census_ChassisTypeName\"].replace('StickPC','Other')\n",
    "df[\"Census_ChassisTypeName\"] = df[\"Census_ChassisTypeName\"].replace('30','Other')\n",
    "df[\"Census_ChassisTypeName\"] = df[\"Census_ChassisTypeName\"].replace('BusExpansionChassis','Other')\n",
    "df[\"Census_ChassisTypeName\"] = df[\"Census_ChassisTypeName\"].replace('SubNotebook','Notebook')\n",
    "df[\"Census_ChassisTypeName\"] = df[\"Census_ChassisTypeName\"].replace('RackMountChassis','Other')\n",
    "df[\"Census_ChassisTypeName\"] = df[\"Census_ChassisTypeName\"].replace('LunchBox','Other')\n",
    "df[\"Census_ChassisTypeName\"] = df[\"Census_ChassisTypeName\"].replace('MiniPC','Other')\n",
    "df[\"Census_ChassisTypeName\"] = df[\"Census_ChassisTypeName\"].replace('MainServerChassis','Other')\n",
    "df[\"Census_ChassisTypeName\"] = df[\"Census_ChassisTypeName\"].replace('Tower','Desktop')\n",
    "df[\"Census_ChassisTypeName\"] = df[\"Census_ChassisTypeName\"].replace('Tablet','Notebook')\n",
    "df[\"Census_ChassisTypeName\"] = df[\"Census_ChassisTypeName\"].replace('SpaceSaving','Other')\n",
    "df[\"Census_ChassisTypeName\"] = df[\"Census_ChassisTypeName\"].replace('HandHeld','Other')\n",
    "df[\"Census_ChassisTypeName\"] = df[\"Census_ChassisTypeName\"].replace('LowProfileDesktop','Desktop')\n",
    "df[\"Census_ChassisTypeName\"] = df[\"Census_ChassisTypeName\"].replace('Dechatable','Other')\n",
    "df[\"Census_ChassisTypeName\"] = df[\"Census_ChassisTypeName\"].replace('UNKNOWN','Unknown')\n",
    "df[\"Census_ChassisTypeName\"].unique()\n",
    "\n",
    "df[\"Census_OSEdition\"] = df[\"Census_OSEdition\"].replace('CoreSingleLanguage','Core')\n",
    "df[\"Census_OSEdition\"] = df[\"Census_OSEdition\"].replace('CoreCountrySpecific','Core')\n",
    "df[\"Census_OSEdition\"] = df[\"Census_OSEdition\"].replace('ProfessionalEducation','Professional')\n",
    "df[\"Census_OSEdition\"] = df[\"Census_OSEdition\"].replace('ProfessionalN','Professional')\n",
    "df[\"Census_OSEdition\"] = df[\"Census_OSEdition\"].replace('EnterpriseS','Enterprise')\n",
    "df[\"Census_OSEdition\"] = df[\"Census_OSEdition\"].replace('CoreN','Core')\n",
    "df[\"Census_OSEdition\"] = df[\"Census_OSEdition\"].replace('EducationN','Education')\n",
    "df[\"Census_OSEdition\"] = df[\"Census_OSEdition\"].replace('EnterpriseS','Enterprise')\n",
    "df[\"Census_OSEdition\"] = df[\"Census_OSEdition\"].replace('EnterpriseSN','Enterprise')\n",
    "df[\"Census_OSEdition\"] = df[\"Census_OSEdition\"].replace('ProfessionalEducationN','Professional')\n",
    "df[\"Census_OSEdition\"] = df[\"Census_OSEdition\"].replace('ProfessionalWorkStation','Professional')\n",
    "df[\"Census_OSEdition\"] = df[\"Census_OSEdition\"].replace('CloudN','Cloud')\n",
    "df[\"Census_OSEdition\"] = df[\"Census_OSEdition\"].replace('ProfessinalWorkStationN','Professional')\n",
    "df[\"Census_OSEdition\"] = df[\"Census_OSEdition\"].replace('EntrepriseN','Enterprise')\n",
    "\n",
    "df[\"Census_ActivationChannel\"] = df[\"Census_ActivationChannel\"].replace('Retail:TB:Eval','Retail')\n",
    "\n",
    "df[\"Census_PrimaryDiskTypeName\"] = df[\"Census_PrimaryDiskTypeName\"].replace('UNKNOWN','Unspecified')\n",
    "\n",
    "df[\"Census_OSSkuName\"] = df[\"Census_OSSkuName\"].replace('CORE_SINGLELANGUAGE','CORE')\n",
    "df[\"Census_OSSkuName\"] = df[\"Census_OSSkuName\"].replace('CORE_COUNTRYSPECIFIC','CORE')\n",
    "df[\"Census_OSSkuName\"] = df[\"Census_OSSkuName\"].replace('PROFESSIONAL_N','PROFESSIONAL')\n",
    "df[\"Census_OSSkuName\"] = df[\"Census_OSSkuName\"].replace('ENTERPRISE_S','ENTERPRISE')\n",
    "df[\"Census_OSSkuName\"] = df[\"Census_OSSkuName\"].replace('CORE_N','CORE')\n",
    "df[\"Census_OSSkuName\"] = df[\"Census_OSSkuName\"].replace('STANDARD_EVALUATION_SERVER','STANDAR_SERVER')\n",
    "df[\"Census_OSSkuName\"] = df[\"Census_OSSkuName\"].replace('EDUCATION_N','EDUCATION')\n",
    "df[\"Census_OSSkuName\"] = df[\"Census_OSSkuName\"].replace('ENTERPRISE_S_N','ENTERPRISE')\n",
    "df[\"Census_OSSkuName\"] = df[\"Census_OSSkuName\"].replace('DATACENTER_EVALUATION_SERVER','STANDAR_SERVER')\n",
    "df[\"Census_OSSkuName\"] = df[\"Census_OSSkuName\"].replace('ENTERPISE_N','ENTERPRISE')\n",
    "df[\"Census_OSSkuName\"] = df[\"Census_OSSkuName\"].replace('PRO_WORKSTATION','PROFESSIONAL')\n",
    "df[\"Census_OSSkuName\"] = df[\"Census_OSSkuName\"].replace('CLOUDN','CLOUD')\n",
    "df[\"Census_OSSkuName\"] = df[\"Census_OSSkuName\"].replace('PRO_WORKSTATION_N','PROFESSIONAL')"
   ]
  },
  {
   "cell_type": "code",
   "execution_count": 17,
   "id": "3c73ee3e",
   "metadata": {},
   "outputs": [
    {
     "data": {
      "text/html": [
       "<div>\n",
       "<style scoped>\n",
       "    .dataframe tbody tr th:only-of-type {\n",
       "        vertical-align: middle;\n",
       "    }\n",
       "\n",
       "    .dataframe tbody tr th {\n",
       "        vertical-align: top;\n",
       "    }\n",
       "\n",
       "    .dataframe thead th {\n",
       "        text-align: right;\n",
       "    }\n",
       "</style>\n",
       "<table border=\"1\" class=\"dataframe\">\n",
       "  <thead>\n",
       "    <tr style=\"text-align: right;\">\n",
       "      <th></th>\n",
       "      <th>EngineVersion</th>\n",
       "      <th>AppVersion</th>\n",
       "      <th>AvSigVersion</th>\n",
       "      <th>IsBeta</th>\n",
       "      <th>RtpStateBitfield</th>\n",
       "      <th>AVProductsInstalled</th>\n",
       "      <th>AVProductsEnabled</th>\n",
       "      <th>Platform</th>\n",
       "      <th>Processor</th>\n",
       "      <th>OsVer</th>\n",
       "      <th>...</th>\n",
       "      <th>Census_OSWUAutoUpdateOptionsName</th>\n",
       "      <th>Census_GenuineStateName</th>\n",
       "      <th>Census_ActivationChannel</th>\n",
       "      <th>Census_FlightRing</th>\n",
       "      <th>Census_IsSecureBootEnabled</th>\n",
       "      <th>Census_IsVirtualDevice</th>\n",
       "      <th>Census_IsTouchEnabled</th>\n",
       "      <th>Census_IsAlwaysOnAlwaysConnectedCapable</th>\n",
       "      <th>Wdft_IsGamer</th>\n",
       "      <th>HasDetections</th>\n",
       "    </tr>\n",
       "    <tr>\n",
       "      <th>MachineIdentifier</th>\n",
       "      <th></th>\n",
       "      <th></th>\n",
       "      <th></th>\n",
       "      <th></th>\n",
       "      <th></th>\n",
       "      <th></th>\n",
       "      <th></th>\n",
       "      <th></th>\n",
       "      <th></th>\n",
       "      <th></th>\n",
       "      <th></th>\n",
       "      <th></th>\n",
       "      <th></th>\n",
       "      <th></th>\n",
       "      <th></th>\n",
       "      <th></th>\n",
       "      <th></th>\n",
       "      <th></th>\n",
       "      <th></th>\n",
       "      <th></th>\n",
       "      <th></th>\n",
       "    </tr>\n",
       "  </thead>\n",
       "  <tbody>\n",
       "    <tr>\n",
       "      <th>b334f9993d6e0eeab23c75fe4d8e4be6</th>\n",
       "      <td>1.1.15100.1</td>\n",
       "      <td>4.18.1807.18075</td>\n",
       "      <td>1.273.1131.0</td>\n",
       "      <td>0</td>\n",
       "      <td>7.0</td>\n",
       "      <td>1.0</td>\n",
       "      <td>1.0</td>\n",
       "      <td>windows10</td>\n",
       "      <td>x64</td>\n",
       "      <td>10.0.0.0</td>\n",
       "      <td>...</td>\n",
       "      <td>FullAuto</td>\n",
       "      <td>INVALID_LICENSE</td>\n",
       "      <td>Retail</td>\n",
       "      <td>Retail</td>\n",
       "      <td>0</td>\n",
       "      <td>0.0</td>\n",
       "      <td>0</td>\n",
       "      <td>0.0</td>\n",
       "      <td>1.0</td>\n",
       "      <td>1</td>\n",
       "    </tr>\n",
       "    <tr>\n",
       "      <th>eefefb93284f171fafc1e40324286a3c</th>\n",
       "      <td>1.1.15200.1</td>\n",
       "      <td>4.18.1807.18075</td>\n",
       "      <td>1.275.1425.0</td>\n",
       "      <td>0</td>\n",
       "      <td>7.0</td>\n",
       "      <td>1.0</td>\n",
       "      <td>1.0</td>\n",
       "      <td>windows10</td>\n",
       "      <td>x86</td>\n",
       "      <td>10.0.0.0</td>\n",
       "      <td>...</td>\n",
       "      <td>FullAuto</td>\n",
       "      <td>IS_GENUINE</td>\n",
       "      <td>Retail</td>\n",
       "      <td>Retail</td>\n",
       "      <td>0</td>\n",
       "      <td>0.0</td>\n",
       "      <td>0</td>\n",
       "      <td>0.0</td>\n",
       "      <td>1.0</td>\n",
       "      <td>1</td>\n",
       "    </tr>\n",
       "    <tr>\n",
       "      <th>11592cf42ecf84c83b5231a9977ad229</th>\n",
       "      <td>1.1.15100.1</td>\n",
       "      <td>4.18.1807.18075</td>\n",
       "      <td>1.273.1094.0</td>\n",
       "      <td>0</td>\n",
       "      <td>7.0</td>\n",
       "      <td>2.0</td>\n",
       "      <td>1.0</td>\n",
       "      <td>windows10</td>\n",
       "      <td>x64</td>\n",
       "      <td>10.0.0.0</td>\n",
       "      <td>...</td>\n",
       "      <td>Off</td>\n",
       "      <td>IS_GENUINE</td>\n",
       "      <td>Retail</td>\n",
       "      <td>Retail</td>\n",
       "      <td>0</td>\n",
       "      <td>0.0</td>\n",
       "      <td>0</td>\n",
       "      <td>0.0</td>\n",
       "      <td>1.0</td>\n",
       "      <td>1</td>\n",
       "    </tr>\n",
       "    <tr>\n",
       "      <th>6f9e32b4662967ca35f9c1180fa1dd42</th>\n",
       "      <td>1.1.15200.1</td>\n",
       "      <td>4.18.1807.18075</td>\n",
       "      <td>1.275.410.0</td>\n",
       "      <td>0</td>\n",
       "      <td>7.0</td>\n",
       "      <td>1.0</td>\n",
       "      <td>1.0</td>\n",
       "      <td>windows10</td>\n",
       "      <td>x64</td>\n",
       "      <td>10.0.0.0</td>\n",
       "      <td>...</td>\n",
       "      <td>FullAuto</td>\n",
       "      <td>IS_GENUINE</td>\n",
       "      <td>Volume:GVLK</td>\n",
       "      <td>Retail</td>\n",
       "      <td>0</td>\n",
       "      <td>0.0</td>\n",
       "      <td>0</td>\n",
       "      <td>0.0</td>\n",
       "      <td>1.0</td>\n",
       "      <td>1</td>\n",
       "    </tr>\n",
       "    <tr>\n",
       "      <th>b642da2805ea64912520db7ed34a9995</th>\n",
       "      <td>1.1.15200.1</td>\n",
       "      <td>4.18.1807.18075</td>\n",
       "      <td>1.275.1730.0</td>\n",
       "      <td>0</td>\n",
       "      <td>0.0</td>\n",
       "      <td>2.0</td>\n",
       "      <td>1.0</td>\n",
       "      <td>windows10</td>\n",
       "      <td>x64</td>\n",
       "      <td>10.0.0.0</td>\n",
       "      <td>...</td>\n",
       "      <td>Notify</td>\n",
       "      <td>IS_GENUINE</td>\n",
       "      <td>OEM:DM</td>\n",
       "      <td>Retail</td>\n",
       "      <td>1</td>\n",
       "      <td>0.0</td>\n",
       "      <td>0</td>\n",
       "      <td>0.0</td>\n",
       "      <td>0.0</td>\n",
       "      <td>1</td>\n",
       "    </tr>\n",
       "  </tbody>\n",
       "</table>\n",
       "<p>5 rows × 54 columns</p>\n",
       "</div>"
      ],
      "text/plain": [
       "                                 EngineVersion       AppVersion  AvSigVersion  \\\n",
       "MachineIdentifier                                                               \n",
       "b334f9993d6e0eeab23c75fe4d8e4be6   1.1.15100.1  4.18.1807.18075  1.273.1131.0   \n",
       "eefefb93284f171fafc1e40324286a3c   1.1.15200.1  4.18.1807.18075  1.275.1425.0   \n",
       "11592cf42ecf84c83b5231a9977ad229   1.1.15100.1  4.18.1807.18075  1.273.1094.0   \n",
       "6f9e32b4662967ca35f9c1180fa1dd42   1.1.15200.1  4.18.1807.18075   1.275.410.0   \n",
       "b642da2805ea64912520db7ed34a9995   1.1.15200.1  4.18.1807.18075  1.275.1730.0   \n",
       "\n",
       "                                  IsBeta  RtpStateBitfield  \\\n",
       "MachineIdentifier                                            \n",
       "b334f9993d6e0eeab23c75fe4d8e4be6       0               7.0   \n",
       "eefefb93284f171fafc1e40324286a3c       0               7.0   \n",
       "11592cf42ecf84c83b5231a9977ad229       0               7.0   \n",
       "6f9e32b4662967ca35f9c1180fa1dd42       0               7.0   \n",
       "b642da2805ea64912520db7ed34a9995       0               0.0   \n",
       "\n",
       "                                  AVProductsInstalled  AVProductsEnabled  \\\n",
       "MachineIdentifier                                                          \n",
       "b334f9993d6e0eeab23c75fe4d8e4be6                  1.0                1.0   \n",
       "eefefb93284f171fafc1e40324286a3c                  1.0                1.0   \n",
       "11592cf42ecf84c83b5231a9977ad229                  2.0                1.0   \n",
       "6f9e32b4662967ca35f9c1180fa1dd42                  1.0                1.0   \n",
       "b642da2805ea64912520db7ed34a9995                  2.0                1.0   \n",
       "\n",
       "                                   Platform Processor     OsVer  ...  \\\n",
       "MachineIdentifier                                                ...   \n",
       "b334f9993d6e0eeab23c75fe4d8e4be6  windows10       x64  10.0.0.0  ...   \n",
       "eefefb93284f171fafc1e40324286a3c  windows10       x86  10.0.0.0  ...   \n",
       "11592cf42ecf84c83b5231a9977ad229  windows10       x64  10.0.0.0  ...   \n",
       "6f9e32b4662967ca35f9c1180fa1dd42  windows10       x64  10.0.0.0  ...   \n",
       "b642da2805ea64912520db7ed34a9995  windows10       x64  10.0.0.0  ...   \n",
       "\n",
       "                                  Census_OSWUAutoUpdateOptionsName  \\\n",
       "MachineIdentifier                                                    \n",
       "b334f9993d6e0eeab23c75fe4d8e4be6                          FullAuto   \n",
       "eefefb93284f171fafc1e40324286a3c                          FullAuto   \n",
       "11592cf42ecf84c83b5231a9977ad229                               Off   \n",
       "6f9e32b4662967ca35f9c1180fa1dd42                          FullAuto   \n",
       "b642da2805ea64912520db7ed34a9995                            Notify   \n",
       "\n",
       "                                  Census_GenuineStateName  \\\n",
       "MachineIdentifier                                           \n",
       "b334f9993d6e0eeab23c75fe4d8e4be6          INVALID_LICENSE   \n",
       "eefefb93284f171fafc1e40324286a3c               IS_GENUINE   \n",
       "11592cf42ecf84c83b5231a9977ad229               IS_GENUINE   \n",
       "6f9e32b4662967ca35f9c1180fa1dd42               IS_GENUINE   \n",
       "b642da2805ea64912520db7ed34a9995               IS_GENUINE   \n",
       "\n",
       "                                 Census_ActivationChannel Census_FlightRing  \\\n",
       "MachineIdentifier                                                             \n",
       "b334f9993d6e0eeab23c75fe4d8e4be6                   Retail            Retail   \n",
       "eefefb93284f171fafc1e40324286a3c                   Retail            Retail   \n",
       "11592cf42ecf84c83b5231a9977ad229                   Retail            Retail   \n",
       "6f9e32b4662967ca35f9c1180fa1dd42              Volume:GVLK            Retail   \n",
       "b642da2805ea64912520db7ed34a9995                   OEM:DM            Retail   \n",
       "\n",
       "                                 Census_IsSecureBootEnabled  \\\n",
       "MachineIdentifier                                             \n",
       "b334f9993d6e0eeab23c75fe4d8e4be6                          0   \n",
       "eefefb93284f171fafc1e40324286a3c                          0   \n",
       "11592cf42ecf84c83b5231a9977ad229                          0   \n",
       "6f9e32b4662967ca35f9c1180fa1dd42                          0   \n",
       "b642da2805ea64912520db7ed34a9995                          1   \n",
       "\n",
       "                                  Census_IsVirtualDevice  \\\n",
       "MachineIdentifier                                          \n",
       "b334f9993d6e0eeab23c75fe4d8e4be6                     0.0   \n",
       "eefefb93284f171fafc1e40324286a3c                     0.0   \n",
       "11592cf42ecf84c83b5231a9977ad229                     0.0   \n",
       "6f9e32b4662967ca35f9c1180fa1dd42                     0.0   \n",
       "b642da2805ea64912520db7ed34a9995                     0.0   \n",
       "\n",
       "                                  Census_IsTouchEnabled  \\\n",
       "MachineIdentifier                                         \n",
       "b334f9993d6e0eeab23c75fe4d8e4be6                      0   \n",
       "eefefb93284f171fafc1e40324286a3c                      0   \n",
       "11592cf42ecf84c83b5231a9977ad229                      0   \n",
       "6f9e32b4662967ca35f9c1180fa1dd42                      0   \n",
       "b642da2805ea64912520db7ed34a9995                      0   \n",
       "\n",
       "                                  Census_IsAlwaysOnAlwaysConnectedCapable  \\\n",
       "MachineIdentifier                                                           \n",
       "b334f9993d6e0eeab23c75fe4d8e4be6                                      0.0   \n",
       "eefefb93284f171fafc1e40324286a3c                                      0.0   \n",
       "11592cf42ecf84c83b5231a9977ad229                                      0.0   \n",
       "6f9e32b4662967ca35f9c1180fa1dd42                                      0.0   \n",
       "b642da2805ea64912520db7ed34a9995                                      0.0   \n",
       "\n",
       "                                  Wdft_IsGamer HasDetections  \n",
       "MachineIdentifier                                             \n",
       "b334f9993d6e0eeab23c75fe4d8e4be6           1.0             1  \n",
       "eefefb93284f171fafc1e40324286a3c           1.0             1  \n",
       "11592cf42ecf84c83b5231a9977ad229           1.0             1  \n",
       "6f9e32b4662967ca35f9c1180fa1dd42           1.0             1  \n",
       "b642da2805ea64912520db7ed34a9995           0.0             1  \n",
       "\n",
       "[5 rows x 54 columns]"
      ]
     },
     "execution_count": 17,
     "metadata": {},
     "output_type": "execute_result"
    }
   ],
   "source": [
    "df.head()"
   ]
  },
  {
   "cell_type": "code",
   "execution_count": null,
   "id": "35e2a877",
   "metadata": {},
   "outputs": [
    {
     "data": {
      "text/plain": [
       "EngineVersion\n",
       "1.1.15200.1    21612\n",
       "1.1.15100.1    20492\n",
       "1.1.15000.2     1492\n",
       "1.1.14901.4     1216\n",
       "1.1.14600.4      928\n",
       "1.1.14800.3      776\n",
       "1.1.15300.6      642\n",
       "1.1.14104.0      519\n",
       "1.1.13504.0      381\n",
       "1.1.15300.5      373\n",
       "1.1.14700.5      275\n",
       "1.1.14500.5      250\n",
       "1.1.14405.2      211\n",
       "1.1.14306.0      140\n",
       "1.1.14202.0       82\n",
       "1.1.14003.0       82\n",
       "1.1.13804.0       73\n",
       "1.1.13303.0       59\n",
       "1.1.13601.0       53\n",
       "1.1.13407.0       49\n",
       "1.1.13903.0       44\n",
       "1.1.13704.0       35\n",
       "1.1.12902.0       32\n",
       "1.1.13202.0       28\n",
       "1.1.13103.0       26\n",
       "1.1.13701.0       25\n",
       "1.1.14305.0       24\n",
       "1.1.15000.1       18\n",
       "1.1.13000.0       12\n",
       "1.1.14901.3       12\n",
       "1.1.12805.0        9\n",
       "1.1.14700.3        6\n",
       "1.1.14800.1        6\n",
       "1.1.14700.4        3\n",
       "1.1.13803.0        3\n",
       "1.1.14500.2        2\n",
       "1.1.14201.0        2\n",
       "1.1.12101.0        2\n",
       "1.1.12603.0        1\n",
       "1.1.14002.0        1\n",
       "1.1.13802.0        1\n",
       "1.1.14303.0        1\n",
       "1.1.12804.0        1\n",
       "1.1.14102.0        1\n",
       "Name: count, dtype: int64"
      ]
     },
     "execution_count": 18,
     "metadata": {},
     "output_type": "execute_result"
    }
   ],
   "source": [
    "#The data will be reviewed column by column to see if it is written incorrectly or correctly.\n",
    "df[\"EngineVersion\"].value_counts()"
   ]
  },
  {
   "cell_type": "code",
   "execution_count": null,
   "id": "b6db68e2",
   "metadata": {},
   "outputs": [
    {
     "name": "stdout",
     "output_type": "stream",
     "text": [
      "<class 'pandas.core.series.Series'>\n",
      "Index: 50000 entries, b334f9993d6e0eeab23c75fe4d8e4be6 to c4df5d03b0c64700fdfb61fbad54ef59\n",
      "Series name: EngineVersion\n",
      "Non-Null Count  Dtype \n",
      "--------------  ----- \n",
      "50000 non-null  object\n",
      "dtypes: object(1)\n",
      "memory usage: 781.2+ KB\n"
     ]
    }
   ],
   "source": [
    "#Two columns of the current one will be converted to better manage the information\n",
    "df.EngineVersion.info()"
   ]
  },
  {
   "cell_type": "code",
   "execution_count": null,
   "id": "68e82121",
   "metadata": {},
   "outputs": [],
   "source": [
    "#You can delete the first 1.1, the second number is the model and the last one is the version\n",
    "df[[\"EngineVersion_A\",\"EngineVersion_B\"]] = df[\"EngineVersion\"].str.extract(r'1\\.1\\.(\\d+)\\.(\\d+)')\n",
    "df = df.drop(columns= [\"EngineVersion\"])\n",
    "df[[\"EngineVersion_A\",\"EngineVersion_B\"]] = df[[\"EngineVersion_A\",\"EngineVersion_B\"]].astype(int)"
   ]
  },
  {
   "cell_type": "code",
   "execution_count": null,
   "id": "2b0e99ad",
   "metadata": {},
   "outputs": [
    {
     "data": {
      "text/plain": [
       "EngineVersion_A    0\n",
       "EngineVersion_B    0\n",
       "dtype: int64"
      ]
     },
     "execution_count": 21,
     "metadata": {},
     "output_type": "execute_result"
    }
   ],
   "source": [
    "#We check that the new columns do not have null values\n",
    "df[[\"EngineVersion_A\",\"EngineVersion_B\"]].isnull().sum()"
   ]
  },
  {
   "cell_type": "code",
   "execution_count": null,
   "id": "3c6e2030",
   "metadata": {},
   "outputs": [
    {
     "data": {
      "text/plain": [
       "AppVersion\n",
       "4.18.1807.18075    28776\n",
       "4.18.1806.18062     4724\n",
       "4.12.16299.15       2011\n",
       "4.10.209.0          1504\n",
       "4.13.17134.1        1488\n",
       "                   ...  \n",
       "4.8.10240.17609        1\n",
       "4.11.15063.994         1\n",
       "4.17.17677.1000        1\n",
       "4.8.10240.17113        1\n",
       "4.9.10586.456          1\n",
       "Name: count, Length: 73, dtype: int64"
      ]
     },
     "execution_count": 22,
     "metadata": {},
     "output_type": "execute_result"
    }
   ],
   "source": [
    "#AppVersion Column Cleanup\n",
    "df[\"AppVersion\"].value_counts()\n",
    "#df[\"AppVersion\"].info()"
   ]
  },
  {
   "cell_type": "code",
   "execution_count": 23,
   "id": "688f1f1e",
   "metadata": {},
   "outputs": [],
   "source": [
    "df[[\"AppVersion_a\",\"AppVersion_b\",\"AppVersion_c\"]] = df[\"AppVersion\"].str.extract(r'4\\.(\\d+)\\.(\\d+)\\.(\\d+)')\n",
    "df = df.drop(columns=[\"AppVersion\"])\n",
    "df[[\"AppVersion_a\",\"AppVersion_b\",\"AppVersion_c\"]] = df[[\"AppVersion_a\",\"AppVersion_b\",\"AppVersion_c\"]].astype(int)"
   ]
  },
  {
   "cell_type": "code",
   "execution_count": null,
   "id": "aaf5d3ac",
   "metadata": {},
   "outputs": [
    {
     "data": {
      "text/plain": [
       "np.int64(0)"
      ]
     },
     "execution_count": 24,
     "metadata": {},
     "output_type": "execute_result"
    }
   ],
   "source": [
    "df[\"AvSigVersion\"].value_counts()\n",
    "df[\"AvSigVersion\"].isnull().sum()"
   ]
  },
  {
   "cell_type": "code",
   "execution_count": 25,
   "id": "7e0f40e9",
   "metadata": {},
   "outputs": [],
   "source": [
    "df[[\"AvSigVersion_A\",\"AvSigVerion_B\"]] = df[\"AvSigVersion\"].str.extract(r'1\\.(\\d+)\\.(\\d+)\\.0')\n",
    "df[[\"AvSigVersion_A\",\"AvSigVerion_B\"]] = df[[\"AvSigVersion_A\",\"AvSigVerion_B\"]].astype(int)"
   ]
  },
  {
   "cell_type": "code",
   "execution_count": 26,
   "id": "05c563e5",
   "metadata": {},
   "outputs": [
    {
     "data": {
      "text/plain": [
       "AVProductsEnabled\n",
       "1.0    48500\n",
       "2.0     1114\n",
       "0.0      150\n",
       "3.0       32\n",
       "4.0        1\n",
       "Name: count, dtype: int64"
      ]
     },
     "execution_count": 26,
     "metadata": {},
     "output_type": "execute_result"
    }
   ],
   "source": [
    "#AVProductsEnabled\n",
    "df['AVProductsEnabled'].value_counts()"
   ]
  },
  {
   "cell_type": "code",
   "execution_count": 27,
   "id": "b489dce8",
   "metadata": {},
   "outputs": [
    {
     "name": "stderr",
     "output_type": "stream",
     "text": [
      "C:\\Users\\Carlos\\AppData\\Local\\Temp\\ipykernel_11504\\2535538552.py:1: FutureWarning: A value is trying to be set on a copy of a DataFrame or Series through chained assignment using an inplace method.\n",
      "The behavior will change in pandas 3.0. This inplace method will never work because the intermediate object on which we are setting values always behaves as a copy.\n",
      "\n",
      "For example, when doing 'df[col].method(value, inplace=True)', try using 'df.method({col: value}, inplace=True)' or df[col] = df[col].method(value) instead, to perform the operation inplace on the original object.\n",
      "\n",
      "\n",
      "  df['AVProductsEnabled'].fillna(1.0, inplace=True)\n"
     ]
    }
   ],
   "source": [
    "df['AVProductsEnabled'].fillna(1.0, inplace=True)"
   ]
  },
  {
   "cell_type": "code",
   "execution_count": 28,
   "id": "432c2136",
   "metadata": {},
   "outputs": [
    {
     "data": {
      "text/plain": [
       "Platform\n",
       "windows10      48309\n",
       "windows8        1057\n",
       "windows7         541\n",
       "windows2016       93\n",
       "Name: count, dtype: int64"
      ]
     },
     "execution_count": 28,
     "metadata": {},
     "output_type": "execute_result"
    }
   ],
   "source": [
    "df[\"Platform\"].value_counts()"
   ]
  },
  {
   "cell_type": "code",
   "execution_count": 29,
   "id": "c984a0da",
   "metadata": {},
   "outputs": [
    {
     "data": {
      "text/plain": [
       "Processor\n",
       "x64      45407\n",
       "x86       4591\n",
       "arm64        2\n",
       "Name: count, dtype: int64"
      ]
     },
     "execution_count": 29,
     "metadata": {},
     "output_type": "execute_result"
    }
   ],
   "source": [
    "df['Processor'].value_counts()"
   ]
  },
  {
   "cell_type": "code",
   "execution_count": 30,
   "id": "2ba09ed0",
   "metadata": {},
   "outputs": [],
   "source": [
    "df['Processor'] = df['Processor'].apply(lambda x:1 if x=='x64' else 0)"
   ]
  },
  {
   "cell_type": "code",
   "execution_count": 31,
   "id": "b9448eca",
   "metadata": {},
   "outputs": [
    {
     "data": {
      "text/plain": [
       "OsVer\n",
       "10.0.0.0      48397\n",
       "6.3.0.0        1056\n",
       "6.1.1.0         536\n",
       "6.1.0.0           5\n",
       "10.0.3.0          2\n",
       "10.0.32.72        1\n",
       "10.0.8.0          1\n",
       "6.3.32.72         1\n",
       "10.0.1.0          1\n",
       "Name: count, dtype: int64"
      ]
     },
     "execution_count": 31,
     "metadata": {},
     "output_type": "execute_result"
    }
   ],
   "source": [
    "df['OsVer'].value_counts()"
   ]
  },
  {
   "cell_type": "code",
   "execution_count": 32,
   "id": "b65c059f",
   "metadata": {},
   "outputs": [],
   "source": [
    "df[['OsVer_Binary','OsVer_A','OsVer_B']]=df['OsVer'].str.extract(r'^(10|6)\\.(\\d+)\\.(\\d+)')\n",
    "df[['OsVer_Binary','OsVer_A','OsVer_B']]\n",
    "df['OsVer_Binary'] = df['OsVer_Binary'].apply(lambda x:1 if x == '10' else 0)\n",
    "df = df.drop(columns=['OsVer'])\n"
   ]
  },
  {
   "cell_type": "code",
   "execution_count": 33,
   "id": "17fd9527",
   "metadata": {},
   "outputs": [
    {
     "data": {
      "text/plain": [
       "OsVer_Binary  OsVer_A  OsVer_B\n",
       "1             0        0          48397\n",
       "0             3        0           1056\n",
       "              1        1            536\n",
       "                       0              5\n",
       "1             0        3              2\n",
       "0             3        32             1\n",
       "1             0        1              1\n",
       "                       32             1\n",
       "                       8              1\n",
       "Name: count, dtype: int64"
      ]
     },
     "execution_count": 33,
     "metadata": {},
     "output_type": "execute_result"
    }
   ],
   "source": [
    "df[['OsVer_Binary','OsVer_A','OsVer_B']].value_counts()"
   ]
  },
  {
   "cell_type": "code",
   "execution_count": 34,
   "id": "5622138c",
   "metadata": {},
   "outputs": [
    {
     "data": {
      "text/plain": [
       "OsBuild\n",
       "17134    22131\n",
       "16299    14029\n",
       "15063     4210\n",
       "14393     4112\n",
       "10586     2308\n",
       "10240     1504\n",
       "9600      1057\n",
       "7601       536\n",
       "17738       24\n",
       "17744       11\n",
       "17692        8\n",
       "17741        7\n",
       "17754        6\n",
       "17758        6\n",
       "17713        6\n",
       "17746        5\n",
       "7600         5\n",
       "17733        5\n",
       "17755        5\n",
       "17751        4\n",
       "17686        4\n",
       "17763        4\n",
       "17735        3\n",
       "18242        2\n",
       "18234        2\n",
       "17677        2\n",
       "17672        1\n",
       "17704        1\n",
       "17639        1\n",
       "17760        1\n",
       "Name: count, dtype: int64"
      ]
     },
     "execution_count": 34,
     "metadata": {},
     "output_type": "execute_result"
    }
   ],
   "source": [
    "df['OsBuild'].value_counts()"
   ]
  },
  {
   "cell_type": "code",
   "execution_count": null,
   "id": "22e1f2a8",
   "metadata": {},
   "outputs": [
    {
     "data": {
      "text/plain": [
       "OsBuild\n",
       "17134    22242\n",
       "16299    14029\n",
       "15063     4210\n",
       "14393     4112\n",
       "10586     2308\n",
       "10240     1504\n",
       "9600      1057\n",
       "7601       536\n",
       "17639        1\n",
       "17704        1\n",
       "Name: count, dtype: int64"
      ]
     },
     "execution_count": 35,
     "metadata": {},
     "output_type": "execute_result"
    }
   ],
   "source": [
    "#Unusable values ​​will be replaced\n",
    "df['OsBuild'] = df['OsBuild'].replace(17738,17134)\n",
    "df['OsBuild'] = df['OsBuild'].replace(17692,17134)\n",
    "df['OsBuild'] = df['OsBuild'].replace(17744,17134)\n",
    "df['OsBuild'] = df['OsBuild'].replace(17754,17134)\n",
    "df['OsBuild'] = df['OsBuild'].replace(17758,17134)\n",
    "df['OsBuild'] = df['OsBuild'].replace(17746,17134)\n",
    "df['OsBuild'] = df['OsBuild'].replace(7600,17134)\n",
    "df['OsBuild'] = df['OsBuild'].replace(17713,17134)\n",
    "df['OsBuild'] = df['OsBuild'].replace(17735,17134)\n",
    "df['OsBuild'] = df['OsBuild'].replace(17755,17134)\n",
    "df['OsBuild'] = df['OsBuild'].replace(17751,17134)\n",
    "df['OsBuild'] = df['OsBuild'].replace(17686,17134)\n",
    "df['OsBuild'] = df['OsBuild'].replace(17666,17134)\n",
    "df['OsBuild'] = df['OsBuild'].replace(17763,17134)\n",
    "df['OsBuild'] = df['OsBuild'].replace(17760,17134)\n",
    "df['OsBuild'] = df['OsBuild'].replace(17682,17134)\n",
    "df['OsBuild'] = df['OsBuild'].replace(17234,17134)\n",
    "df['OsBuild'] = df['OsBuild'].replace(17604,17134)\n",
    "df['OsBuild'] = df['OsBuild'].replace(17672,17134)\n",
    "df['OsBuild'] = df['OsBuild'].replace(17677,17134)\n",
    "df['OsBuild'] = df['OsBuild'].replace(17242,17134)\n",
    "df['OsBuild'] = df['OsBuild'].replace(17237,17134)\n",
    "df['OsBuild'] = df['OsBuild'].replace(17733,17134)\n",
    "df['OsBuild'] = df['OsBuild'].replace(17741,17134)\n",
    "df['OsBuild'] = df['OsBuild'].replace(18234,17134)\n",
    "df['OsBuild'] = df['OsBuild'].replace(17618,17134)\n",
    "df['OsBuild'] = df['OsBuild'].replace(18237,17134)\n",
    "df['OsBuild'] = df['OsBuild'].replace(18242,17134)\n",
    "df['OsBuild'].value_counts()"
   ]
  },
  {
   "cell_type": "code",
   "execution_count": 36,
   "id": "b00b489a",
   "metadata": {},
   "outputs": [
    {
     "data": {
      "text/plain": [
       "OsSuite\n",
       "768    31293\n",
       "256    18614\n",
       "272       77\n",
       "16         7\n",
       "400        5\n",
       "305        4\n",
       "Name: count, dtype: int64"
      ]
     },
     "execution_count": 36,
     "metadata": {},
     "output_type": "execute_result"
    }
   ],
   "source": [
    "df['OsSuite'].value_counts()"
   ]
  },
  {
   "cell_type": "code",
   "execution_count": 37,
   "id": "4f78863d",
   "metadata": {},
   "outputs": [
    {
     "data": {
      "text/plain": [
       "OsSuite\n",
       "768    31386\n",
       "256    18614\n",
       "Name: count, dtype: int64"
      ]
     },
     "execution_count": 37,
     "metadata": {},
     "output_type": "execute_result"
    }
   ],
   "source": [
    "df['OsSuite'] = df['OsSuite'].replace(305,768)\n",
    "df['OsSuite'] = df['OsSuite'].replace(16,768)\n",
    "df['OsSuite'] = df['OsSuite'].replace(400,768)\n",
    "df['OsSuite'] = df['OsSuite'].replace(784,768)\n",
    "df['OsSuite'] = df['OsSuite'].replace(274,768)\n",
    "df['OsSuite'] = df['OsSuite'].replace(272,768)\n",
    "df['OsSuite'].value_counts()"
   ]
  },
  {
   "cell_type": "code",
   "execution_count": 38,
   "id": "49a63afd",
   "metadata": {},
   "outputs": [
    {
     "data": {
      "text/plain": [
       "OsSuite\n",
       "1    31386\n",
       "0    18614\n",
       "Name: count, dtype: int64"
      ]
     },
     "execution_count": 38,
     "metadata": {},
     "output_type": "execute_result"
    }
   ],
   "source": [
    "df['OsSuite'] = df['OsSuite'].apply(lambda x:1 if x==768 else 0)\n",
    "df['OsSuite'].value_counts()"
   ]
  },
  {
   "cell_type": "code",
   "execution_count": 39,
   "id": "82a83385",
   "metadata": {},
   "outputs": [
    {
     "data": {
      "text/plain": [
       "OsPlatformSubRelease\n",
       "rs4           22131\n",
       "rs3           14029\n",
       "rs2            4210\n",
       "rs1            4112\n",
       "th2            2308\n",
       "th1            1504\n",
       "windows8.1     1057\n",
       "windows7        541\n",
       "prers5          108\n",
       "Name: count, dtype: int64"
      ]
     },
     "execution_count": 39,
     "metadata": {},
     "output_type": "execute_result"
    }
   ],
   "source": [
    "df['OsPlatformSubRelease'].value_counts()"
   ]
  },
  {
   "cell_type": "code",
   "execution_count": 40,
   "id": "6b20f911",
   "metadata": {},
   "outputs": [
    {
     "data": {
      "text/plain": [
       "OsBuildLab\n",
       "17134.1.amd64fre.rs4_release.180410-1804                 20726\n",
       "16299.431.amd64fre.rs3_release_svc_escrow.180502-1908     6930\n",
       "16299.15.amd64fre.rs3_release.170928-1534                 5423\n",
       "15063.0.amd64fre.rs2_release.170317-1834                  3886\n",
       "17134.1.x86fre.rs4_release.180410-1804                    1405\n",
       "                                                         ...  \n",
       "17751.1.x86fre.rs5_release.180828-1428                       1\n",
       "10240.17797.amd64fre.th1_st1.180228-1829                     1\n",
       "10240.17184.x86fre.th1_st1.161024-1820                       1\n",
       "9600.18931.x86fre.winblue_ltsb.180201-0600                   1\n",
       "9600.17328.amd64fre.winblue_r3.140827-1500                   1\n",
       "Name: count, Length: 292, dtype: int64"
      ]
     },
     "execution_count": 40,
     "metadata": {},
     "output_type": "execute_result"
    }
   ],
   "source": [
    "df['OsBuildLab'].value_counts()"
   ]
  },
  {
   "cell_type": "code",
   "execution_count": null,
   "id": "166ec91c",
   "metadata": {},
   "outputs": [
    {
     "data": {
      "text/plain": [
       "OsBuildLab\n",
       "17134.1.amd64fre.rs4_release.180410-1804                 28075\n",
       "16299.431.amd64fre.rs3_release_svc_escrow.180502-1908     6930\n",
       "16299.15.amd64fre.rs3_release.170928-1534                 5423\n",
       "15063.0.amd64fre.rs2_release.170317-1834                  3886\n",
       "17134.1.x86fre.rs4_release.180410-1804                    1405\n",
       "16299.15.x86fre.rs3_release.170928-1534                   1387\n",
       "14393.2189.amd64fre.rs1_release.180329-1711               1059\n",
       "10240.17443.amd64fre.th1.170602-2340                       966\n",
       "10586.1176.amd64fre.th2_release_sec.170913-1848            869\n",
       "Name: count, dtype: int64"
      ]
     },
     "execution_count": 41,
     "metadata": {},
     "output_type": "execute_result"
    }
   ],
   "source": [
    "#Best way to change values ​​that have few frequencies\n",
    "frecuencia = df['OsBuildLab'].value_counts()\n",
    "OsBuildLab_may = frecuencia.idxmax()\n",
    "OsBuildLabs_a_combinar = frecuencia[frecuencia <= 1].index.tolist() + frecuencia[frecuencia < 500].index.tolist()\n",
    "df['OsBuildLab'] = df['OsBuildLab'].replace(OsBuildLabs_a_combinar,OsBuildLab_may)\n",
    "df['OsBuildLab'].value_counts()"
   ]
  },
  {
   "cell_type": "code",
   "execution_count": 42,
   "id": "dcabc4f4",
   "metadata": {},
   "outputs": [
    {
     "data": {
      "text/plain": [
       "SkuEdition\n",
       "Home               31025\n",
       "Pro                17929\n",
       "Invalid              461\n",
       "Education            235\n",
       "Enterprise           205\n",
       "Enterprise LTSB      103\n",
       "Cloud                 25\n",
       "Server                17\n",
       "Name: count, dtype: int64"
      ]
     },
     "execution_count": 42,
     "metadata": {},
     "output_type": "execute_result"
    }
   ],
   "source": [
    "df['SkuEdition'].value_counts()"
   ]
  },
  {
   "cell_type": "code",
   "execution_count": 43,
   "id": "76cb1c5a",
   "metadata": {},
   "outputs": [
    {
     "data": {
      "text/plain": [
       "IsProtected\n",
       "1.0    47006\n",
       "0.0     2791\n",
       "Name: count, dtype: int64"
      ]
     },
     "execution_count": 43,
     "metadata": {},
     "output_type": "execute_result"
    }
   ],
   "source": [
    "df['IsProtected'].value_counts()"
   ]
  },
  {
   "cell_type": "code",
   "execution_count": 44,
   "id": "6f2f2575",
   "metadata": {},
   "outputs": [
    {
     "data": {
      "text/plain": [
       "np.int64(3010)"
      ]
     },
     "execution_count": 44,
     "metadata": {},
     "output_type": "execute_result"
    }
   ],
   "source": [
    "df['SMode'].value_counts()\n",
    "df['SMode'].isnull().sum()"
   ]
  },
  {
   "cell_type": "code",
   "execution_count": null,
   "id": "59299e2c",
   "metadata": {},
   "outputs": [],
   "source": [
    "#Because the 'SMode' column has only two values ​​and the value 1 being the smallest has fewer records than the null values, this column is dropped and has no weight in the model.\n",
    "df['SMode'].drop(columns=['SMode'], inplace=True)"
   ]
  },
  {
   "cell_type": "code",
   "execution_count": 46,
   "id": "66444ee7",
   "metadata": {},
   "outputs": [
    {
     "data": {
      "text/plain": [
       "Firewall\n",
       "1.0    48328\n",
       "0.0     1142\n",
       "Name: count, dtype: int64"
      ]
     },
     "execution_count": 46,
     "metadata": {},
     "output_type": "execute_result"
    }
   ],
   "source": [
    "df['Firewall'].value_counts()"
   ]
  },
  {
   "cell_type": "code",
   "execution_count": null,
   "id": "a131fa28",
   "metadata": {},
   "outputs": [],
   "source": [
    "df['Firewall'].drop(columns=['Firewall'], inplace=True)"
   ]
  },
  {
   "cell_type": "code",
   "execution_count": 48,
   "id": "e9fc0707",
   "metadata": {},
   "outputs": [
    {
     "data": {
      "text/plain": [
       "UacLuaenable\n",
       "1.0     49642\n",
       "0.0       303\n",
       "48.0        1\n",
       "Name: count, dtype: int64"
      ]
     },
     "execution_count": 48,
     "metadata": {},
     "output_type": "execute_result"
    }
   ],
   "source": [
    "df['UacLuaenable'].value_counts()"
   ]
  },
  {
   "cell_type": "code",
   "execution_count": 49,
   "id": "8c0bf679",
   "metadata": {},
   "outputs": [],
   "source": [
    "df['UacLuaenable'].drop(columns=['UacLuaenable'],inplace=True)"
   ]
  },
  {
   "cell_type": "code",
   "execution_count": 50,
   "id": "8864a90d",
   "metadata": {},
   "outputs": [
    {
     "data": {
      "text/plain": [
       "Census_MDC2FormFactor\n",
       "Notebook        32070\n",
       "Desktop         10882\n",
       "Convertible      2245\n",
       "Detachable       1693\n",
       "AllInOne         1689\n",
       "PCOther           761\n",
       "LargeTablet       385\n",
       "SmallTablet       189\n",
       "SmallServer        56\n",
       "MediumServer       23\n",
       "LargeServer         7\n",
       "Name: count, dtype: int64"
      ]
     },
     "execution_count": 50,
     "metadata": {},
     "output_type": "execute_result"
    }
   ],
   "source": [
    "df['Census_MDC2FormFactor'].value_counts()"
   ]
  },
  {
   "cell_type": "code",
   "execution_count": 51,
   "id": "79261483",
   "metadata": {},
   "outputs": [
    {
     "data": {
      "text/plain": [
       "Census_MDC2FormFactor\n",
       "Notebook       32156\n",
       "Desktop        10882\n",
       "Convertible     2245\n",
       "Detachable      1693\n",
       "AllInOne        1689\n",
       "PCOther          761\n",
       "LargeTablet      385\n",
       "SmallTablet      189\n",
       "Name: count, dtype: int64"
      ]
     },
     "execution_count": 51,
     "metadata": {},
     "output_type": "execute_result"
    }
   ],
   "source": [
    "df['Census_MDC2FormFactor']= df['Census_MDC2FormFactor'].replace('SmallServer','Notebook')\n",
    "df['Census_MDC2FormFactor']= df['Census_MDC2FormFactor'].replace('MediumServer','Notebook')\n",
    "df['Census_MDC2FormFactor']= df['Census_MDC2FormFactor'].replace('LargeServer','Notebook')\n",
    "df['Census_MDC2FormFactor'].value_counts()"
   ]
  },
  {
   "cell_type": "code",
   "execution_count": 52,
   "id": "df04936a",
   "metadata": {},
   "outputs": [
    {
     "data": {
      "text/plain": [
       "Census_ProcessorCoreCount\n",
       "4.0     30517\n",
       "2.0     12946\n",
       "8.0      4832\n",
       "12.0      510\n",
       "1.0       380\n",
       "6.0       371\n",
       "16.0      100\n",
       "3.0        73\n",
       "32.0       13\n",
       "24.0        8\n",
       "20.0        6\n",
       "40.0        6\n",
       "48.0        3\n",
       "10.0        2\n",
       "36.0        2\n",
       "56.0        2\n",
       "28.0        1\n",
       "Name: count, dtype: int64"
      ]
     },
     "execution_count": 52,
     "metadata": {},
     "output_type": "execute_result"
    }
   ],
   "source": [
    "df['Census_ProcessorCoreCount'].value_counts()"
   ]
  },
  {
   "cell_type": "code",
   "execution_count": 53,
   "id": "be420117",
   "metadata": {},
   "outputs": [
    {
     "data": {
      "text/plain": [
       "Census_ProcessorCoreCount\n",
       "4.0     30547\n",
       "2.0     12946\n",
       "8.0      4832\n",
       "12.0      510\n",
       "1.0       380\n",
       "6.0       371\n",
       "16.0      100\n",
       "3.0        73\n",
       "32.0       13\n",
       "Name: count, dtype: int64"
      ]
     },
     "execution_count": 53,
     "metadata": {},
     "output_type": "execute_result"
    }
   ],
   "source": [
    "frecuencia1 = df['Census_ProcessorCoreCount'].value_counts()\n",
    "Census_ProcessorCoreCount_max = frecuencia1.idxmax()\n",
    "Census_ProcessorCoreCount_combinar = frecuencia1[frecuencia1 <=1].index.tolist() + frecuencia1[frecuencia1 < 10].index.tolist()\n",
    "df['Census_ProcessorCoreCount'] = df['Census_ProcessorCoreCount'].replace(Census_ProcessorCoreCount_combinar, Census_ProcessorCoreCount_max)\n",
    "df['Census_ProcessorCoreCount'].value_counts()"
   ]
  },
  {
   "cell_type": "code",
   "execution_count": 54,
   "id": "5454b005",
   "metadata": {},
   "outputs": [
    {
     "data": {
      "text/plain": [
       "Census_ProcessorManufacturerIdentifier\n",
       "5.0     43921\n",
       "1.0      5847\n",
       "10.0        2\n",
       "3.0         2\n",
       "Name: count, dtype: int64"
      ]
     },
     "execution_count": 54,
     "metadata": {},
     "output_type": "execute_result"
    }
   ],
   "source": [
    "df['Census_ProcessorManufacturerIdentifier'].value_counts()"
   ]
  },
  {
   "cell_type": "code",
   "execution_count": 55,
   "id": "0a83d293",
   "metadata": {},
   "outputs": [
    {
     "data": {
      "text/plain": [
       "Census_ProcessorManufacturerIdentifier\n",
       "1    43921\n",
       "0     6079\n",
       "Name: count, dtype: int64"
      ]
     },
     "execution_count": 55,
     "metadata": {},
     "output_type": "execute_result"
    }
   ],
   "source": [
    "df['Census_ProcessorManufacturerIdentifier'] = df['Census_ProcessorManufacturerIdentifier'].apply(lambda x:1 if x==5.0 else 0)\n",
    "df['Census_ProcessorManufacturerIdentifier'].value_counts()"
   ]
  },
  {
   "cell_type": "code",
   "execution_count": 56,
   "id": "a446adc1",
   "metadata": {},
   "outputs": [
    {
     "data": {
      "text/plain": [
       "Census_PrimaryDiskTotalCapacity\n",
       "476940.0     16053\n",
       "953869.0     12196\n",
       "305245.0      2664\n",
       "122104.0      2631\n",
       "244198.0      2522\n",
       "             ...  \n",
       "1144128.0        1\n",
       "50480.0          1\n",
       "610476.0         1\n",
       "39205.0          1\n",
       "57230.0          1\n",
       "Name: count, Length: 336, dtype: int64"
      ]
     },
     "execution_count": 56,
     "metadata": {},
     "output_type": "execute_result"
    }
   ],
   "source": [
    "df['Census_PrimaryDiskTotalCapacity'].value_counts()"
   ]
  },
  {
   "cell_type": "code",
   "execution_count": 57,
   "id": "74cf7b05",
   "metadata": {},
   "outputs": [
    {
     "data": {
      "text/plain": [
       "Census_PrimaryDiskTypeName\n",
       "HDD            32579\n",
       "SSD            13768\n",
       "Unspecified     3579\n",
       "Name: count, dtype: int64"
      ]
     },
     "execution_count": 57,
     "metadata": {},
     "output_type": "execute_result"
    }
   ],
   "source": [
    "df['Census_PrimaryDiskTypeName'].value_counts()"
   ]
  },
  {
   "cell_type": "code",
   "execution_count": 58,
   "id": "c03c0ae8",
   "metadata": {},
   "outputs": [
    {
     "data": {
      "text/plain": [
       "Census_PrimaryDiskTypeName\n",
       "1    36158\n",
       "0    13842\n",
       "Name: count, dtype: int64"
      ]
     },
     "execution_count": 58,
     "metadata": {},
     "output_type": "execute_result"
    }
   ],
   "source": [
    "df['Census_PrimaryDiskTypeName'] = df['Census_PrimaryDiskTypeName'].replace('Unspecified','HDD')\n",
    "df['Census_PrimaryDiskTypeName'] = df['Census_PrimaryDiskTypeName'].apply(lambda x:1 if x=='HDD' else 0)\n",
    "df['Census_PrimaryDiskTypeName'].value_counts()"
   ]
  },
  {
   "cell_type": "code",
   "execution_count": null,
   "id": "2f0238c9",
   "metadata": {},
   "outputs": [
    {
     "data": {
      "text/plain": [
       "Census_SystemVolumeTotalCapacity\n",
       "28542.0      295\n",
       "476389.0     255\n",
       "476324.0     245\n",
       "926992.0     242\n",
       "102400.0     238\n",
       "            ... \n",
       "51447.0        1\n",
       "450978.0       1\n",
       "904406.0       1\n",
       "1889930.0      1\n",
       "200323.0       1\n",
       "Name: count, Length: 26191, dtype: int64"
      ]
     },
     "execution_count": 59,
     "metadata": {},
     "output_type": "execute_result"
    }
   ],
   "source": [
    "#Being a numerical category, the values ​​with lower frequencies do not matter as much.\n",
    "df['Census_SystemVolumeTotalCapacity'].value_counts()"
   ]
  },
  {
   "cell_type": "code",
   "execution_count": 60,
   "id": "d5fbe775",
   "metadata": {},
   "outputs": [
    {
     "data": {
      "text/plain": [
       "Census_HasOpticalDiskDrive\n",
       "0    46184\n",
       "1     3816\n",
       "Name: count, dtype: int64"
      ]
     },
     "execution_count": 60,
     "metadata": {},
     "output_type": "execute_result"
    }
   ],
   "source": [
    "df['Census_HasOpticalDiskDrive'].value_counts()"
   ]
  },
  {
   "cell_type": "code",
   "execution_count": 61,
   "id": "b537284b",
   "metadata": {},
   "outputs": [
    {
     "data": {
      "text/plain": [
       "Census_TotalPhysicalRAM\n",
       "4096.0     22949\n",
       "8192.0     12279\n",
       "2048.0      6219\n",
       "16384.0     2882\n",
       "6144.0      2195\n",
       "           ...  \n",
       "4008.0         1\n",
       "1964.0         1\n",
       "12181.0        1\n",
       "6000.0         1\n",
       "4000.0         1\n",
       "Name: count, Length: 112, dtype: int64"
      ]
     },
     "execution_count": 61,
     "metadata": {},
     "output_type": "execute_result"
    }
   ],
   "source": [
    "df['Census_TotalPhysicalRAM'].value_counts()"
   ]
  },
  {
   "cell_type": "code",
   "execution_count": 62,
   "id": "7de8c055",
   "metadata": {},
   "outputs": [
    {
     "data": {
      "text/plain": [
       "Census_ChassisTypeName\n",
       "Notebook       29528\n",
       "Desktop        10768\n",
       "Laptop          3810\n",
       "Portable        1986\n",
       "AllinOne        1182\n",
       "Other           1039\n",
       "MiniTower        498\n",
       "Convertible      487\n",
       "Unknown          424\n",
       "Detachable       272\n",
       "Name: count, dtype: int64"
      ]
     },
     "execution_count": 62,
     "metadata": {},
     "output_type": "execute_result"
    }
   ],
   "source": [
    "df['Census_ChassisTypeName'].value_counts()"
   ]
  },
  {
   "cell_type": "code",
   "execution_count": 63,
   "id": "1fc204cf",
   "metadata": {},
   "outputs": [
    {
     "data": {
      "text/plain": [
       "Census_ChassisTypeName\n",
       "Notebook       29952\n",
       "Desktop        10768\n",
       "Laptop          3810\n",
       "Portable        1986\n",
       "AllinOne        1182\n",
       "Other           1039\n",
       "MiniTower        498\n",
       "Convertible      487\n",
       "Detachable       272\n",
       "Name: count, dtype: int64"
      ]
     },
     "execution_count": 63,
     "metadata": {},
     "output_type": "execute_result"
    }
   ],
   "source": [
    "df['Census_ChassisTypeName'] = df['Census_ChassisTypeName'].replace('Unknown','Notebook')\n",
    "df['Census_ChassisTypeName'].value_counts()"
   ]
  },
  {
   "cell_type": "code",
   "execution_count": 64,
   "id": "c9311415",
   "metadata": {},
   "outputs": [
    {
     "data": {
      "text/plain": [
       "Census_InternalPrimaryDiagonalDisplaySizeInInches\n",
       "15.5    17019\n",
       "13.9     5278\n",
       "14.0     3078\n",
       "11.6     1738\n",
       "21.5     1578\n",
       "        ...  \n",
       "40.6        1\n",
       "24.4        1\n",
       "8.4         1\n",
       "98.4        1\n",
       "43.8        1\n",
       "Name: count, Length: 313, dtype: int64"
      ]
     },
     "execution_count": 64,
     "metadata": {},
     "output_type": "execute_result"
    }
   ],
   "source": [
    "df['Census_InternalPrimaryDiagonalDisplaySizeInInches'].value_counts()"
   ]
  },
  {
   "cell_type": "code",
   "execution_count": 65,
   "id": "5919748f",
   "metadata": {},
   "outputs": [
    {
     "data": {
      "text/plain": [
       "Census_InternalPrimaryDisplayResolutionHorizontal\n",
       "1366.0    25158\n",
       "1920.0    12580\n",
       "1600.0     2901\n",
       "1280.0     2868\n",
       "1024.0     1952\n",
       "          ...  \n",
       "1728.0        1\n",
       "1083.0        1\n",
       "960.0         1\n",
       "1882.0        1\n",
       "1726.0        1\n",
       "Name: count, Length: 110, dtype: int64"
      ]
     },
     "execution_count": 65,
     "metadata": {},
     "output_type": "execute_result"
    }
   ],
   "source": [
    "df['Census_InternalPrimaryDisplayResolutionHorizontal'].value_counts()"
   ]
  },
  {
   "cell_type": "code",
   "execution_count": 66,
   "id": "c92551af",
   "metadata": {},
   "outputs": [
    {
     "data": {
      "text/plain": [
       "Census_PowerPlatformRoleName\n",
       "Mobile              34563\n",
       "Desktop             11675\n",
       "Slate                2798\n",
       "Workstation           572\n",
       "SOHOServer            201\n",
       "UNKNOWN               115\n",
       "EnterpriseServer       50\n",
       "AppliancePC            26\n",
       "Name: count, dtype: int64"
      ]
     },
     "execution_count": 66,
     "metadata": {},
     "output_type": "execute_result"
    }
   ],
   "source": [
    "df['Census_PowerPlatformRoleName'].value_counts()"
   ]
  },
  {
   "cell_type": "code",
   "execution_count": 67,
   "id": "babe0539",
   "metadata": {},
   "outputs": [
    {
     "data": {
      "text/plain": [
       "Census_PowerPlatformRoleName\n",
       "Mobile         34754\n",
       "Desktop        11675\n",
       "Slate           2798\n",
       "Workstation      572\n",
       "SOHOServer       201\n",
       "Name: count, dtype: int64"
      ]
     },
     "execution_count": 67,
     "metadata": {},
     "output_type": "execute_result"
    }
   ],
   "source": [
    "df['Census_PowerPlatformRoleName'] = df['Census_PowerPlatformRoleName'].replace('UNKNOWN','Mobile')\n",
    "df['Census_PowerPlatformRoleName'] = df['Census_PowerPlatformRoleName'].replace('EnterpriseServer','Mobile')\n",
    "df['Census_PowerPlatformRoleName'] = df['Census_PowerPlatformRoleName'].replace('AppliancePC','Mobile')\n",
    "df['Census_PowerPlatformRoleName'] = df['Census_PowerPlatformRoleName'].replace('PerformanceServer','Mobile')\n",
    "df['Census_PowerPlatformRoleName'].value_counts()"
   ]
  },
  {
   "cell_type": "code",
   "execution_count": 68,
   "id": "81f03820",
   "metadata": {},
   "outputs": [
    {
     "data": {
      "text/plain": [
       "Census_InternalBatteryNumberOfCharges\n",
       "0.000000e+00    28343\n",
       "4.294967e+09    12589\n",
       "1.000000e+00      288\n",
       "3.000000e+00      152\n",
       "1.600000e+01      141\n",
       "                ...  \n",
       "4.321700e+04        1\n",
       "1.707800e+04        1\n",
       "2.564000e+04        1\n",
       "4.219800e+04        1\n",
       "6.076900e+04        1\n",
       "Name: count, Length: 1135, dtype: int64"
      ]
     },
     "execution_count": 68,
     "metadata": {},
     "output_type": "execute_result"
    }
   ],
   "source": [
    "df['Census_InternalBatteryNumberOfCharges'].value_counts()"
   ]
  },
  {
   "cell_type": "code",
   "execution_count": 69,
   "id": "aa241efc",
   "metadata": {},
   "outputs": [
    {
     "data": {
      "text/plain": [
       "Census_OSArchitecture\n",
       "amd64    45414\n",
       "x86       4584\n",
       "arm64        2\n",
       "Name: count, dtype: int64"
      ]
     },
     "execution_count": 69,
     "metadata": {},
     "output_type": "execute_result"
    }
   ],
   "source": [
    "df['Census_OSArchitecture'].value_counts()"
   ]
  },
  {
   "cell_type": "code",
   "execution_count": 70,
   "id": "7d0156b9",
   "metadata": {},
   "outputs": [
    {
     "data": {
      "text/plain": [
       "Census_OSArchitecture\n",
       "amd64    45416\n",
       "x86       4584\n",
       "Name: count, dtype: int64"
      ]
     },
     "execution_count": 70,
     "metadata": {},
     "output_type": "execute_result"
    }
   ],
   "source": [
    "df['Census_OSArchitecture'] = df['Census_OSArchitecture'].replace('arm64','amd64')\n",
    "df['Census_OSArchitecture'].value_counts()"
   ]
  },
  {
   "cell_type": "code",
   "execution_count": 71,
   "id": "fd03e8b0",
   "metadata": {},
   "outputs": [
    {
     "data": {
      "text/plain": [
       "Census_OSArchitecture\n",
       "1    45416\n",
       "0     4584\n",
       "Name: count, dtype: int64"
      ]
     },
     "execution_count": 71,
     "metadata": {},
     "output_type": "execute_result"
    }
   ],
   "source": [
    "df['Census_OSArchitecture'] =df['Census_OSArchitecture'].apply(lambda x:1 if x=='amd64' else 0)\n",
    "df['Census_OSArchitecture'].value_counts()"
   ]
  },
  {
   "cell_type": "code",
   "execution_count": 72,
   "id": "438b1251",
   "metadata": {},
   "outputs": [
    {
     "data": {
      "text/plain": [
       "Census_OSBranch\n",
       "rs4_release                  22655\n",
       "rs3_release                   7007\n",
       "rs3_release_svc_escrow        6624\n",
       "rs1_release                   4402\n",
       "rs2_release                   4322\n",
       "th2_release                   1810\n",
       "th2_release_sec               1533\n",
       "th1_st1                       1088\n",
       "th1                            427\n",
       "rs5_release                     88\n",
       "rs3_release_svc_escrow_im       23\n",
       "rs_prerelease                   13\n",
       "rs_prerelease_flt                8\n",
       "Name: count, dtype: int64"
      ]
     },
     "execution_count": 72,
     "metadata": {},
     "output_type": "execute_result"
    }
   ],
   "source": [
    "df['Census_OSBranch'].value_counts()"
   ]
  },
  {
   "cell_type": "code",
   "execution_count": 73,
   "id": "bf2f053f",
   "metadata": {},
   "outputs": [
    {
     "data": {
      "text/plain": [
       "Census_OSBranch\n",
       "rs4_release               22787\n",
       "rs3_release                7007\n",
       "rs3_release_svc_escrow     6624\n",
       "rs1_release                4402\n",
       "rs2_release                4322\n",
       "th2_release                1810\n",
       "th2_release_sec            1533\n",
       "th1_st1                    1088\n",
       "th1                         427\n",
       "Name: count, dtype: int64"
      ]
     },
     "execution_count": 73,
     "metadata": {},
     "output_type": "execute_result"
    }
   ],
   "source": [
    "frecuencia2 = df['Census_OSBranch'].value_counts()\n",
    "Census_OSBranch_max = frecuencia2.idxmax()\n",
    "Census_OSBranch_combinar = frecuencia2[frecuencia2 <=1].index.tolist() + frecuencia2[frecuencia2 < 90].index.tolist()\n",
    "df['Census_OSBranch'] = df['Census_OSBranch'].replace(Census_OSBranch_combinar, Census_OSBranch_max)\n",
    "df['Census_OSBranch'].value_counts()"
   ]
  },
  {
   "cell_type": "code",
   "execution_count": 74,
   "id": "b977b363",
   "metadata": {},
   "outputs": [
    {
     "data": {
      "text/plain": [
       "Census_OSBuildNumber\n",
       "17134    22652\n",
       "16299    13654\n",
       "14393     4400\n",
       "15063     4321\n",
       "10586     3343\n",
       "10240     1515\n",
       "17738       26\n",
       "17744       13\n",
       "17758        9\n",
       "17692        8\n",
       "17746        7\n",
       "17754        6\n",
       "17733        5\n",
       "17741        4\n",
       "17763        4\n",
       "17751        4\n",
       "17686        4\n",
       "17755        4\n",
       "17133        3\n",
       "17735        3\n",
       "18242        2\n",
       "18234        2\n",
       "17760        2\n",
       "17677        2\n",
       "17672        1\n",
       "17639        1\n",
       "11082        1\n",
       "15048        1\n",
       "14946        1\n",
       "17713        1\n",
       "14328        1\n",
       "Name: count, dtype: int64"
      ]
     },
     "execution_count": 74,
     "metadata": {},
     "output_type": "execute_result"
    }
   ],
   "source": [
    "df['Census_OSBuildNumber'].value_counts()"
   ]
  },
  {
   "cell_type": "code",
   "execution_count": 76,
   "id": "37668791",
   "metadata": {},
   "outputs": [
    {
     "data": {
      "text/plain": [
       "Census_OSBuildNumber\n",
       "17134    24282\n",
       "16299    13654\n",
       "14393     4400\n",
       "15063     4321\n",
       "10586     3343\n",
       "Name: count, dtype: int64"
      ]
     },
     "execution_count": 76,
     "metadata": {},
     "output_type": "execute_result"
    }
   ],
   "source": [
    "frecuencia3=df['Census_OSBuildNumber'].value_counts()\n",
    "Census_OSBuildNumber_max = frecuencia3.idxmax()\n",
    "Census_OSBuildNumber_combinar = frecuencia3[frecuencia3<=1].index.tolist() + frecuencia3[frecuencia3 <1520].index.tolist()\n",
    "df['Census_OSBuildNumber'] = df['Census_OSBuildNumber'].replace(Census_OSBuildNumber_combinar, Census_OSBuildNumber_max)\n",
    "df['Census_OSBuildNumber'].value_counts()"
   ]
  },
  {
   "cell_type": "code",
   "execution_count": 77,
   "id": "c0b8c587",
   "metadata": {},
   "outputs": [
    {
     "data": {
      "text/plain": [
       "Census_OSBuildRevision\n",
       "228      8096\n",
       "165      5094\n",
       "431      3035\n",
       "285      2551\n",
       "112      1942\n",
       "         ... \n",
       "17709       1\n",
       "1002        1\n",
       "456         1\n",
       "17797       1\n",
       "499         1\n",
       "Name: count, Length: 211, dtype: int64"
      ]
     },
     "execution_count": 77,
     "metadata": {},
     "output_type": "execute_result"
    }
   ],
   "source": [
    "df['Census_OSBuildRevision'].value_counts()"
   ]
  },
  {
   "cell_type": "code",
   "execution_count": 78,
   "id": "bad4719f",
   "metadata": {},
   "outputs": [
    {
     "data": {
      "text/plain": [
       "Census_OSBuildRevision\n",
       "228    33632\n",
       "165     5094\n",
       "431     3035\n",
       "285     2551\n",
       "112     1942\n",
       "547     1904\n",
       "371     1842\n",
       "Name: count, dtype: int64"
      ]
     },
     "execution_count": 78,
     "metadata": {},
     "output_type": "execute_result"
    }
   ],
   "source": [
    "frecuencia4=df['Census_OSBuildRevision'].value_counts()\n",
    "Census_OSBuildRevision_max = frecuencia4.idxmax()\n",
    "Census_OSBuildRevision_combinar = frecuencia4[frecuencia4<=1].index.tolist() + frecuencia4[frecuencia4 <1500].index.tolist()\n",
    "df['Census_OSBuildRevision'] = df['Census_OSBuildRevision'].replace(Census_OSBuildRevision_combinar, Census_OSBuildRevision_max)\n",
    "df['Census_OSBuildRevision'].value_counts()"
   ]
  },
  {
   "cell_type": "code",
   "execution_count": 79,
   "id": "8240f5be",
   "metadata": {},
   "outputs": [
    {
     "data": {
      "text/plain": [
       "Census_OSEdition\n",
       "Core                       31444\n",
       "Professional               17878\n",
       "Enterprise                   313\n",
       "Education                    240\n",
       "ServerStandard                72\n",
       "Cloud                         28\n",
       "ServerStandardEval            12\n",
       "ServerDatacenterEval           5\n",
       "ServerSolution                 4\n",
       "EnterpriseN                    3\n",
       "ProfessionalWorkstation        1\n",
       "Name: count, dtype: int64"
      ]
     },
     "execution_count": 79,
     "metadata": {},
     "output_type": "execute_result"
    }
   ],
   "source": [
    "df['Census_OSEdition'].value_counts()"
   ]
  },
  {
   "cell_type": "code",
   "execution_count": 80,
   "id": "6aba4ba0",
   "metadata": {},
   "outputs": [
    {
     "data": {
      "text/plain": [
       "Census_OSSkuName\n",
       "CORE                  31436\n",
       "PROFESSIONAL          17885\n",
       "ENTERPRISE              313\n",
       "EDUCATION               242\n",
       "STANDARD_SERVER          72\n",
       "CLOUD                    28\n",
       "STANDAR_SERVER           17\n",
       "SB_SOLUTION_SERVER        4\n",
       "ENTERPRISE_N              3\n",
       "Name: count, dtype: int64"
      ]
     },
     "execution_count": 80,
     "metadata": {},
     "output_type": "execute_result"
    }
   ],
   "source": [
    "df['Census_OSSkuName'].value_counts()"
   ]
  },
  {
   "cell_type": "code",
   "execution_count": 81,
   "id": "82245165",
   "metadata": {},
   "outputs": [
    {
     "data": {
      "text/plain": [
       "Census_OSSkuName\n",
       "CORE               31443\n",
       "PROFESSIONAL       17885\n",
       "ENTERPRISE           313\n",
       "EDUCATION            242\n",
       "STANDARD_SERVER       72\n",
       "CLOUD                 28\n",
       "STANDAR_SERVER        17\n",
       "Name: count, dtype: int64"
      ]
     },
     "execution_count": 81,
     "metadata": {},
     "output_type": "execute_result"
    }
   ],
   "source": [
    "df['Census_OSSkuName'] = df['Census_OSSkuName'].replace('SB_SOLUTION_SERVER','CORE')\n",
    "df['Census_OSSkuName'] = df['Census_OSSkuName'].replace('ENTERPRISE_N','CORE')\n",
    "df['Census_OSSkuName'].value_counts()"
   ]
  },
  {
   "cell_type": "code",
   "execution_count": 82,
   "id": "b358cb82",
   "metadata": {},
   "outputs": [
    {
     "data": {
      "text/plain": [
       "Census_OSInstallTypeName\n",
       "UUPUpgrade        14624\n",
       "IBSClean           9246\n",
       "Update             8849\n",
       "Upgrade            7141\n",
       "Other              4668\n",
       "Reset              3637\n",
       "Refresh            1178\n",
       "Clean               360\n",
       "CleanPCRefresh      297\n",
       "Name: count, dtype: int64"
      ]
     },
     "execution_count": 82,
     "metadata": {},
     "output_type": "execute_result"
    }
   ],
   "source": [
    "df['Census_OSInstallTypeName'].value_counts()"
   ]
  },
  {
   "cell_type": "code",
   "execution_count": 83,
   "id": "36a48cc0",
   "metadata": {},
   "outputs": [
    {
     "data": {
      "text/plain": [
       "Census_OSInstallTypeName\n",
       "Upgrade           21765\n",
       "IBSClean           9246\n",
       "Update             8849\n",
       "Other              4668\n",
       "Reset              3637\n",
       "Refresh            1178\n",
       "Clean               360\n",
       "CleanPCRefresh      297\n",
       "Name: count, dtype: int64"
      ]
     },
     "execution_count": 83,
     "metadata": {},
     "output_type": "execute_result"
    }
   ],
   "source": [
    "df['Census_OSInstallTypeName'] = df['Census_OSInstallTypeName'].replace('UUPUpgrade','Upgrade')\n",
    "df['Census_OSInstallTypeName'].value_counts()"
   ]
  },
  {
   "cell_type": "code",
   "execution_count": 84,
   "id": "66c0a09f",
   "metadata": {},
   "outputs": [
    {
     "data": {
      "text/plain": [
       "Census_OSInstallLanguageIdentifier\n",
       "8.0     17752\n",
       "9.0      5806\n",
       "7.0      2859\n",
       "29.0     2805\n",
       "14.0     2375\n",
       "37.0     2229\n",
       "10.0     2100\n",
       "26.0     1859\n",
       "5.0      1435\n",
       "35.0     1155\n",
       "39.0     1129\n",
       "20.0     1006\n",
       "18.0      988\n",
       "24.0      835\n",
       "25.0      733\n",
       "27.0      602\n",
       "19.0      501\n",
       "17.0      474\n",
       "1.0       470\n",
       "3.0       443\n",
       "6.0       287\n",
       "33.0      284\n",
       "15.0      224\n",
       "30.0      198\n",
       "4.0       184\n",
       "23.0      161\n",
       "31.0      136\n",
       "2.0       110\n",
       "12.0      109\n",
       "36.0       79\n",
       "16.0       75\n",
       "28.0       62\n",
       "13.0       62\n",
       "34.0       59\n",
       "21.0       32\n",
       "32.0       29\n",
       "22.0       18\n",
       "38.0       15\n",
       "11.0       12\n",
       "Name: count, dtype: int64"
      ]
     },
     "execution_count": 84,
     "metadata": {},
     "output_type": "execute_result"
    }
   ],
   "source": [
    "df['Census_OSInstallLanguageIdentifier'].value_counts()"
   ]
  },
  {
   "cell_type": "code",
   "execution_count": 85,
   "id": "095018c9",
   "metadata": {},
   "outputs": [
    {
     "data": {
      "text/plain": [
       "Census_OSInstallLanguageIdentifier\n",
       "8.0     25940\n",
       "9.0      5806\n",
       "7.0      2859\n",
       "29.0     2805\n",
       "14.0     2375\n",
       "37.0     2229\n",
       "10.0     2100\n",
       "26.0     1859\n",
       "5.0      1435\n",
       "35.0     1155\n",
       "39.0     1129\n",
       "Name: count, dtype: int64"
      ]
     },
     "execution_count": 85,
     "metadata": {},
     "output_type": "execute_result"
    }
   ],
   "source": [
    "frecuencia5 = df['Census_OSInstallLanguageIdentifier'].value_counts()\n",
    "Census_OSInstallLanguageIdentifier_max = frecuencia5.idxmax()\n",
    "Census_OSInstallLanguageIdentifier_combinar = frecuencia5[frecuencia5 <=1].index.tolist() + frecuencia5[frecuencia5<1050].index.tolist()\n",
    "df['Census_OSInstallLanguageIdentifier'] = df['Census_OSInstallLanguageIdentifier'].replace(Census_OSInstallLanguageIdentifier_combinar,Census_OSInstallLanguageIdentifier_max)\n",
    "df['Census_OSInstallLanguageIdentifier'].value_counts()"
   ]
  },
  {
   "cell_type": "code",
   "execution_count": 87,
   "id": "dea6506f",
   "metadata": {},
   "outputs": [
    {
     "data": {
      "text/plain": [
       "Census_OSUILocaleIdentifier\n",
       "31     17694\n",
       "34      5831\n",
       "30      2866\n",
       "125     2836\n",
       "49      2402\n",
       "158     2256\n",
       "35      2159\n",
       "119     1881\n",
       "26      1439\n",
       "148     1162\n",
       "160     1131\n",
       "83      1015\n",
       "72       994\n",
       "109      840\n",
       "115      729\n",
       "120      599\n",
       "74       506\n",
       "64       484\n",
       "5        477\n",
       "20       447\n",
       "28       291\n",
       "140      283\n",
       "58       229\n",
       "128      200\n",
       "24       185\n",
       "105      161\n",
       "130      141\n",
       "11       112\n",
       "44       108\n",
       "151       83\n",
       "62        75\n",
       "48        63\n",
       "123       63\n",
       "145       58\n",
       "90        35\n",
       "156       34\n",
       "136       29\n",
       "68        23\n",
       "92        19\n",
       "159       15\n",
       "17        15\n",
       "38        11\n",
       "37         3\n",
       "42         3\n",
       "15         2\n",
       "36         2\n",
       "116        1\n",
       "12         1\n",
       "131        1\n",
       "54         1\n",
       "51         1\n",
       "161        1\n",
       "21         1\n",
       "91         1\n",
       "162        1\n",
       "Name: count, dtype: int64"
      ]
     },
     "execution_count": 87,
     "metadata": {},
     "output_type": "execute_result"
    }
   ],
   "source": [
    "df['Census_OSUILocaleIdentifier'].value_counts()"
   ]
  },
  {
   "cell_type": "code",
   "execution_count": 88,
   "id": "d16244af",
   "metadata": {},
   "outputs": [
    {
     "data": {
      "text/plain": [
       "Census_OSWUAutoUpdateOptionsName\n",
       "FullAuto                                 22469\n",
       "UNKNOWN                                  13955\n",
       "Notify                                   11300\n",
       "AutoInstallAndRebootAtMaintenanceTime     2053\n",
       "Off                                        130\n",
       "DownloadNotify                              93\n",
       "Name: count, dtype: int64"
      ]
     },
     "execution_count": 88,
     "metadata": {},
     "output_type": "execute_result"
    }
   ],
   "source": [
    "df['Census_OSWUAutoUpdateOptionsName'].value_counts()"
   ]
  },
  {
   "cell_type": "code",
   "execution_count": 89,
   "id": "c2df655e",
   "metadata": {},
   "outputs": [
    {
     "data": {
      "text/plain": [
       "Census_GenuineStateName\n",
       "IS_GENUINE         44159\n",
       "INVALID_LICENSE     4473\n",
       "OFFLINE             1287\n",
       "UNKNOWN               81\n",
       "Name: count, dtype: int64"
      ]
     },
     "execution_count": 89,
     "metadata": {},
     "output_type": "execute_result"
    }
   ],
   "source": [
    "df['Census_GenuineStateName'].value_counts()"
   ]
  },
  {
   "cell_type": "code",
   "execution_count": 90,
   "id": "483e744a",
   "metadata": {},
   "outputs": [
    {
     "data": {
      "text/plain": [
       "Census_GenuineStateName\n",
       "IS_GENUINE         44240\n",
       "INVALID_LICENSE     4473\n",
       "OFFLINE             1287\n",
       "Name: count, dtype: int64"
      ]
     },
     "execution_count": 90,
     "metadata": {},
     "output_type": "execute_result"
    }
   ],
   "source": [
    "df['Census_GenuineStateName'] = df['Census_GenuineStateName'].replace('UNKNOWN','IS_GENUINE')\n",
    "df['Census_GenuineStateName'].value_counts()"
   ]
  },
  {
   "cell_type": "code",
   "execution_count": 91,
   "id": "0b149a8f",
   "metadata": {},
   "outputs": [
    {
     "data": {
      "text/plain": [
       "Census_ActivationChannel\n",
       "Retail         26464\n",
       "OEM:DM         19287\n",
       "Volume:GVLK     2412\n",
       "OEM:NONSLP      1791\n",
       "Volume:MAK        46\n",
       "Name: count, dtype: int64"
      ]
     },
     "execution_count": 91,
     "metadata": {},
     "output_type": "execute_result"
    }
   ],
   "source": [
    "df['Census_ActivationChannel'].value_counts()"
   ]
  },
  {
   "cell_type": "code",
   "execution_count": 92,
   "id": "6e1d402d",
   "metadata": {},
   "outputs": [
    {
     "data": {
      "text/plain": [
       "Census_FlightRing\n",
       "Retail      46849\n",
       "NOT_SET      1613\n",
       "Unknown      1352\n",
       "WIF            57\n",
       "RP             54\n",
       "WIS            52\n",
       "Disabled       23\n",
       "Name: count, dtype: int64"
      ]
     },
     "execution_count": 92,
     "metadata": {},
     "output_type": "execute_result"
    }
   ],
   "source": [
    "df['Census_FlightRing'].value_counts()"
   ]
  },
  {
   "cell_type": "code",
   "execution_count": 93,
   "id": "2141e423",
   "metadata": {},
   "outputs": [
    {
     "data": {
      "text/plain": [
       "Census_FlightRing\n",
       "Retail      46849\n",
       "Unknown      2965\n",
       "WIF            57\n",
       "RP             54\n",
       "WIS            52\n",
       "Disabled       23\n",
       "Name: count, dtype: int64"
      ]
     },
     "execution_count": 93,
     "metadata": {},
     "output_type": "execute_result"
    }
   ],
   "source": [
    "df['Census_FlightRing'] = df['Census_FlightRing'].replace('NOT_SET','Unknown')\n",
    "df['Census_FlightRing'].value_counts()"
   ]
  },
  {
   "cell_type": "code",
   "execution_count": 94,
   "id": "bb783c48",
   "metadata": {},
   "outputs": [
    {
     "data": {
      "text/plain": [
       "Census_IsSecureBootEnabled\n",
       "0    25547\n",
       "1    24453\n",
       "Name: count, dtype: int64"
      ]
     },
     "execution_count": 94,
     "metadata": {},
     "output_type": "execute_result"
    }
   ],
   "source": [
    "df['Census_IsSecureBootEnabled'].value_counts()"
   ]
  },
  {
   "cell_type": "code",
   "execution_count": 95,
   "id": "bee47b62",
   "metadata": {},
   "outputs": [
    {
     "data": {
      "text/plain": [
       "Census_IsVirtualDevice\n",
       "0.0    49567\n",
       "1.0      340\n",
       "Name: count, dtype: int64"
      ]
     },
     "execution_count": 95,
     "metadata": {},
     "output_type": "execute_result"
    }
   ],
   "source": [
    "df['Census_IsVirtualDevice'].value_counts()"
   ]
  },
  {
   "cell_type": "code",
   "execution_count": 96,
   "id": "623f62ee",
   "metadata": {},
   "outputs": [],
   "source": [
    "df['Census_IsVirtualDevice'].drop(columns='Census_IsVirtualDevice',inplace=True)"
   ]
  },
  {
   "cell_type": "code",
   "execution_count": 97,
   "id": "27cf3d7e",
   "metadata": {},
   "outputs": [
    {
     "data": {
      "text/plain": [
       "Census_IsTouchEnabled\n",
       "0    43727\n",
       "1     6273\n",
       "Name: count, dtype: int64"
      ]
     },
     "execution_count": 97,
     "metadata": {},
     "output_type": "execute_result"
    }
   ],
   "source": [
    "df['Census_IsTouchEnabled'].value_counts()"
   ]
  },
  {
   "cell_type": "code",
   "execution_count": 98,
   "id": "5754558d",
   "metadata": {},
   "outputs": [
    {
     "data": {
      "text/plain": [
       "Census_IsAlwaysOnAlwaysConnectedCapable\n",
       "0.0    46694\n",
       "1.0     2880\n",
       "Name: count, dtype: int64"
      ]
     },
     "execution_count": 98,
     "metadata": {},
     "output_type": "execute_result"
    }
   ],
   "source": [
    "df['Census_IsAlwaysOnAlwaysConnectedCapable'].value_counts()"
   ]
  },
  {
   "cell_type": "code",
   "execution_count": 99,
   "id": "baf3aa37",
   "metadata": {},
   "outputs": [
    {
     "data": {
      "text/plain": [
       "Wdft_IsGamer\n",
       "0.0    34561\n",
       "1.0    13736\n",
       "Name: count, dtype: int64"
      ]
     },
     "execution_count": 99,
     "metadata": {},
     "output_type": "execute_result"
    }
   ],
   "source": [
    "df['Wdft_IsGamer'].value_counts()"
   ]
  },
  {
   "cell_type": "markdown",
   "id": "363ba0a8",
   "metadata": {},
   "source": [
    "Pipeline (Imputar los valores nulos de todas las columnas)"
   ]
  },
  {
   "cell_type": "code",
   "execution_count": 100,
   "id": "b7f8cd3b",
   "metadata": {},
   "outputs": [
    {
     "data": {
      "text/plain": [
       "AvSigVersion             0\n",
       "IsBeta                   0\n",
       "RtpStateBitfield       176\n",
       "AVProductsInstalled    203\n",
       "AVProductsEnabled        0\n",
       "                      ... \n",
       "AvSigVersion_A           0\n",
       "AvSigVerion_B            0\n",
       "OsVer_Binary             0\n",
       "OsVer_A                  0\n",
       "OsVer_B                  0\n",
       "Length: 61, dtype: int64"
      ]
     },
     "execution_count": 100,
     "metadata": {},
     "output_type": "execute_result"
    }
   ],
   "source": [
    "df.isnull().sum()"
   ]
  },
  {
   "cell_type": "code",
   "execution_count": 101,
   "id": "b44c5ddf",
   "metadata": {},
   "outputs": [],
   "source": [
    "from sklearn.pipeline import Pipeline\n",
    "from sklearn.impute import SimpleImputer\n",
    "\n",
    "pipeline = Pipeline(\n",
    " [\n",
    "     ('imputer',SimpleImputer(strategy='most_frequent'))\n",
    " ]   \n",
    ")"
   ]
  },
  {
   "cell_type": "code",
   "execution_count": 103,
   "id": "1b418098",
   "metadata": {},
   "outputs": [],
   "source": [
    "df1= pd.DataFrame(pipeline.fit_transform(df), columns=df.columns)"
   ]
  },
  {
   "cell_type": "code",
   "execution_count": 104,
   "id": "e31e4ce2",
   "metadata": {},
   "outputs": [
    {
     "data": {
      "text/plain": [
       "AvSigVersion           0\n",
       "IsBeta                 0\n",
       "RtpStateBitfield       0\n",
       "AVProductsInstalled    0\n",
       "AVProductsEnabled      0\n",
       "                      ..\n",
       "AvSigVersion_A         0\n",
       "AvSigVerion_B          0\n",
       "OsVer_Binary           0\n",
       "OsVer_A                0\n",
       "OsVer_B                0\n",
       "Length: 61, dtype: int64"
      ]
     },
     "execution_count": 104,
     "metadata": {},
     "output_type": "execute_result"
    }
   ],
   "source": [
    "df1.isnull().sum()"
   ]
  },
  {
   "cell_type": "code",
   "execution_count": 105,
   "id": "6a1e4a11",
   "metadata": {},
   "outputs": [],
   "source": [
    "df.to_csv('malware_sin_nulos.csv')"
   ]
  }
 ],
 "metadata": {
  "kernelspec": {
   "display_name": "limpieza_datos",
   "language": "python",
   "name": "python3"
  },
  "language_info": {
   "codemirror_mode": {
    "name": "ipython",
    "version": 3
   },
   "file_extension": ".py",
   "mimetype": "text/x-python",
   "name": "python",
   "nbconvert_exporter": "python",
   "pygments_lexer": "ipython3",
   "version": "3.12.2"
  }
 },
 "nbformat": 4,
 "nbformat_minor": 5
}
